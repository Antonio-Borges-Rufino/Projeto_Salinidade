{
  "nbformat": 4,
  "nbformat_minor": 0,
  "metadata": {
    "colab": {
      "name": "juncao.ipynb",
      "provenance": []
    },
    "kernelspec": {
      "display_name": "Python 3",
      "name": "python3"
    },
    "language_info": {
      "name": "python"
    }
  },
  "cells": [
    {
      "cell_type": "markdown",
      "metadata": {
        "id": "PP3LXBU5rA3b"
      },
      "source": [
        "# O output desse processo deve ser os dados totais em anos, juntando os dados diários feitos no processo anterior"
      ]
    },
    {
      "cell_type": "markdown",
      "metadata": {
        "id": "dbW4rKHzrLCw"
      },
      "source": [
        "## 1. Importanto bibliotecas"
      ]
    },
    {
      "cell_type": "code",
      "metadata": {
        "id": "gCUpt6QZVsxL"
      },
      "source": [
        "import pandas as pd"
      ],
      "execution_count": null,
      "outputs": []
    },
    {
      "cell_type": "markdown",
      "metadata": {
        "id": "2oGN0gsj3nl5"
      },
      "source": [
        "1. escolhendo o ano"
      ]
    },
    {
      "cell_type": "code",
      "metadata": {
        "colab": {
          "base_uri": "https://localhost:8080/"
        },
        "id": "_prBlZZG3hwA",
        "outputId": "196ee10b-9508-4eb4-aa0e-9371c9fd8726"
      },
      "source": [
        "ano = input(\"Ano: \")"
      ],
      "execution_count": null,
      "outputs": [
        {
          "name": "stdout",
          "output_type": "stream",
          "text": [
            "Ano: 2019\n"
          ]
        }
      ]
    },
    {
      "cell_type": "markdown",
      "metadata": {
        "id": "jpEkqxzf3pyn"
      },
      "source": [
        ""
      ]
    },
    {
      "cell_type": "markdown",
      "metadata": {
        "id": "PmFOAO-1rQtA"
      },
      "source": [
        "##2. Recuperando os dados sem temperaturas"
      ]
    },
    {
      "cell_type": "code",
      "metadata": {
        "id": "pTszkeL_qAIx"
      },
      "source": [
        "df = pd.DataFrame(None)\n",
        "count = 1\n",
        "dia = 1\n",
        "while count <=12:\n",
        "  df = pd.concat([df,pd.read_parquet('/content/drive/MyDrive/dados_transformados/'+str(ano)+'-'+str(count))])\n",
        "  count = count + 1"
      ],
      "execution_count": null,
      "outputs": []
    },
    {
      "cell_type": "markdown",
      "metadata": {
        "id": "QFEtJkklrZQj"
      },
      "source": [
        "## 3. Recuperando os dados com temperatura e juntando todos os dias em um df anual"
      ]
    },
    {
      "cell_type": "code",
      "metadata": {
        "colab": {
          "base_uri": "https://localhost:8080/"
        },
        "id": "yHdTiJ0-VydP",
        "outputId": "af122758-41c2-4b10-b347-69e4f38b51f3"
      },
      "source": [
        "df2 = pd.DataFrame(None)\n",
        "count = 1\n",
        "dia = 1\n",
        "while count <=12:\n",
        "  while dia <= 31:\n",
        "    try:\n",
        "      df2 = pd.concat([df2,pd.read_parquet('/content/drive/MyDrive/dados_finais/'+str(ano)+'-'+str(count)+'-'+str(dia))])\n",
        "    except:\n",
        "      pass\n",
        "    dia = dia + 1\n",
        "  print(count)\n",
        "  dia = 1  \n",
        "  count = count + 1"
      ],
      "execution_count": null,
      "outputs": [
        {
          "name": "stdout",
          "output_type": "stream",
          "text": [
            "1\n",
            "2\n",
            "3\n",
            "4\n",
            "5\n",
            "6\n",
            "7\n",
            "8\n",
            "9\n",
            "10\n",
            "11\n",
            "12\n"
          ]
        }
      ]
    },
    {
      "cell_type": "markdown",
      "metadata": {
        "id": "7-fTL5_Vrm8x"
      },
      "source": [
        "## 4. Vendo se o nunemro de instancias do df antes do processmanento das imagens é o mesmo do df depois do processamento das imagens"
      ]
    },
    {
      "cell_type": "code",
      "metadata": {
        "colab": {
          "base_uri": "https://localhost:8080/"
        },
        "id": "NWxwtj03W53s",
        "outputId": "84285b09-3993-4d09-ff87-c33e9668ded9"
      },
      "source": [
        "result = len(df) == len(df2)\n",
        "result"
      ],
      "execution_count": null,
      "outputs": [
        {
          "data": {
            "text/plain": [
              "False"
            ]
          },
          "execution_count": 27,
          "metadata": {},
          "output_type": "execute_result"
        }
      ]
    },
    {
      "cell_type": "markdown",
      "metadata": {
        "id": "qKNnZNf9r9Sk"
      },
      "source": [
        "## 5. Se true, salve o df"
      ]
    },
    {
      "cell_type": "code",
      "metadata": {
        "id": "L9gOIHJgXeZm"
      },
      "source": [
        "df2.to_parquet('/content/drive/MyDrive/'+str(ano))"
      ],
      "execution_count": null,
      "outputs": []
    },
    {
      "cell_type": "markdown",
      "metadata": {
        "id": "ESlEgmEFcaVz"
      },
      "source": [
        "## 6. Apagar a pasta"
      ]
    },
    {
      "cell_type": "code",
      "metadata": {
        "colab": {
          "base_uri": "https://localhost:8080/"
        },
        "id": "k95UkoFGcZCS",
        "outputId": "2b74eb64-3471-4a19-94ab-f74b58ea616f"
      },
      "source": [
        "import subprocess\n",
        "subprocess.run(['rm','-r','/content/drive/MyDrive/dados_finais'])"
      ],
      "execution_count": null,
      "outputs": [
        {
          "data": {
            "text/plain": [
              "CompletedProcess(args=['rm', '-r', '/content/drive/MyDrive/dados_finais'], returncode=0)"
            ]
          },
          "execution_count": 15,
          "metadata": {},
          "output_type": "execute_result"
        }
      ]
    },
    {
      "cell_type": "code",
      "metadata": {
        "colab": {
          "background_save": true
        },
        "id": "_ak_m1x8ZnOi"
      },
      "source": [
        "df2.loc[]"
      ],
      "execution_count": null,
      "outputs": []
    }
  ]
}