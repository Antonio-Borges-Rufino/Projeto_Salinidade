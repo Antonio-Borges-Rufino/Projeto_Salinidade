{
  "nbformat": 4,
  "nbformat_minor": 0,
  "metadata": {
    "colab": {
      "name": "Tranformacao.ipynb",
      "provenance": []
    },
    "kernelspec": {
      "name": "python3",
      "display_name": "Python 3"
    },
    "language_info": {
      "name": "python"
    }
  },
  "cells": [
    {
      "cell_type": "markdown",
      "metadata": {
        "id": "F3JQlMpsdy6Q"
      },
      "source": [
        "# A resolução de latitude e longitude do satélite é de 1km, ou seja, um numero + 2 casas decimais (x.xx), já a dos dados coletados em situ é um numero mais 4 casas decimais (x.xxxx). o output desse ódigo deve ser um arquivo ANO-MES com resoluções iguais (x.xx)"
      ]
    },
    {
      "cell_type": "markdown",
      "metadata": {
        "id": "ICm6_JMIqzjs"
      },
      "source": [
        "## 1. Importe as bibliotecas necessária"
      ]
    },
    {
      "cell_type": "code",
      "metadata": {
        "id": "o-1RSDzzOMUI"
      },
      "source": [
        "import pandas as pd"
      ],
      "execution_count": 23,
      "outputs": []
    },
    {
      "cell_type": "markdown",
      "metadata": {
        "id": "vscaH88cq6NO"
      },
      "source": [
        "## 2. Importe os arquivos"
      ]
    },
    {
      "cell_type": "markdown",
      "metadata": {
        "id": "3ZgCYcKHDl0B"
      },
      "source": [
        "\n",
        "\n",
        "```\n",
        "df = pd.read_parquet('/content/drive/MyDrive/Dados/'+ano+'-'+mes)\n",
        "```\n",
        "\n"
      ]
    },
    {
      "cell_type": "markdown",
      "metadata": {
        "id": "BZoRQ4Ebq-7x"
      },
      "source": [
        "## 3. Transforme a latitude e longitude para ficar igual a do satélite"
      ]
    },
    {
      "cell_type": "markdown",
      "metadata": {
        "id": "aU8DvR2QD4rW"
      },
      "source": [
        "\n",
        "\n",
        "```\n",
        "df['LATITUDE'] = round(df['LATITUDE'],2) \n",
        "df['LONGITUDE'] = round(df['LONGITUDE'],2) \n",
        "```\n",
        "\n"
      ]
    },
    {
      "cell_type": "markdown",
      "metadata": {
        "id": "hTTP9F5CrGea"
      },
      "source": [
        "### 3.1 Essa tranformação traz 2 problemas de duplicação, que vou ajeitar "
      ]
    },
    {
      "cell_type": "markdown",
      "metadata": {
        "id": "n8eJ6dC9rTtN"
      },
      "source": [
        "1. O primeiro é a duplicação de valores iguais de latitude, longitude e salinidade, esses valores simplesmente são dropados para ficarem como únicos\n",
        "\n",
        "\n",
        "```\n",
        "df = df.drop_duplicates(subset=['LATITUDE','LONGITUDE','SALINIDADE'])\n",
        "```"
      ]
    },
    {
      "cell_type": "markdown",
      "metadata": {
        "id": "akmC1WUjrxQf"
      },
      "source": [
        "2. O segundo é o problema de latitudes e longitudes iguais mas com salinidades diferentes, isso se dá porque ao arrendondar as casas, alguns valores diferentes ficaram com as mesmas casas decimais, mas suas salinidades ficaram diferentes. "
      ]
    },
    {
      "cell_type": "markdown",
      "metadata": {
        "id": "5HTMX-nFsES1"
      },
      "source": [
        "> Passo 1. Separar os dataset com latitude e longitudes iguais e fazer a média das sumariações dos valores de salinidade\n",
        "\n",
        "\n",
        "```\n",
        "df2 = df.groupby(['ANO','MES','DIA','LATITUDE','LONGITUDE']).mean().reset_index()\n",
        "```\n",
        "\n"
      ]
    },
    {
      "cell_type": "markdown",
      "metadata": {
        "id": "7s0eU-EBsLAP"
      },
      "source": [
        "> Passo 2. Salvar o dataset final\n",
        "\n",
        "\n",
        "```\n",
        "df2.to_parquet('/content/drive/MyDrive/dados_transformados/'+ano+'-'+mes)\n",
        "```\n",
        "\n"
      ]
    },
    {
      "cell_type": "markdown",
      "metadata": {
        "id": "9oAhFgL8Epev"
      },
      "source": [
        "# Esse código em especial tem que ser executado de forma separada, não podendo ser executado em blocos"
      ]
    },
    {
      "cell_type": "code",
      "metadata": {
        "id": "38eD80eBHZ0w"
      },
      "source": [
        "ano = 2003\n",
        "mes = 1\n",
        "while ano <= 2020:\n",
        "  while mes <= 12:\n",
        "    df = pd.read_parquet('/content/drive/MyDrive/Dados/'+str(ano)+'-'+str(mes))\n",
        "    df['LATITUDE'] = round(df['LATITUDE'],2) \n",
        "    df['LONGITUDE'] = round(df['LONGITUDE'],2) \n",
        "    df = df.drop_duplicates(subset=['LATITUDE','LONGITUDE','SALINIDADE'])\n",
        "    df2 = df.groupby(['ANO','MES','DIA','LATITUDE','LONGITUDE']).mean().reset_index()\n",
        "    df2.to_parquet('/content/drive/MyDrive/dados_transformados/'+str(ano)+'-'+str(mes))\n",
        "    mes = mes + 1\n",
        "  mes = 1\n",
        "  ano = ano + 1"
      ],
      "execution_count": 233,
      "outputs": []
    }
  ]
}