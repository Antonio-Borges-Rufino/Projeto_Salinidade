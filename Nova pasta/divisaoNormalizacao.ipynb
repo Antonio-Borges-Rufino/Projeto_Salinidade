{
  "nbformat": 4,
  "nbformat_minor": 0,
  "metadata": {
    "colab": {
      "name": "divisaoNormalizacao.ipynb",
      "provenance": [],
      "collapsed_sections": []
    },
    "kernelspec": {
      "name": "python3",
      "display_name": "Python 3"
    },
    "language_info": {
      "name": "python"
    }
  },
  "cells": [
    {
      "cell_type": "markdown",
      "metadata": {
        "id": "Cl2umwhDcUaa"
      },
      "source": [
        "#1. O output desse processo deve ser um conjunto de teste e um conjunto de treino com os dados de entrada normalizados"
      ]
    },
    {
      "cell_type": "markdown",
      "metadata": {
        "id": "wwphRZ1hcf1F"
      },
      "source": [
        "##1.1 importar as bibliotecas"
      ]
    },
    {
      "cell_type": "code",
      "metadata": {
        "id": "kvw0DcfXZsf1"
      },
      "source": [
        "import numpy as np\n",
        "from sklearn.model_selection import train_test_split\n",
        "from sklearn.preprocessing import MaxAbsScaler\n",
        "import pandas as pd"
      ],
      "execution_count": 28,
      "outputs": []
    },
    {
      "cell_type": "markdown",
      "metadata": {
        "id": "86YOrz51c0hL"
      },
      "source": [
        "##1.2 pegar o cojunto de dados "
      ]
    },
    {
      "cell_type": "code",
      "metadata": {
        "id": "Fu536rkOc5KU"
      },
      "source": [
        "df = pd.read_parquet('/content/drive/MyDrive/dataSetFinal')"
      ],
      "execution_count": 2,
      "outputs": []
    },
    {
      "cell_type": "markdown",
      "metadata": {
        "id": "FDqVjuggdDM_"
      },
      "source": [
        "##1.3 trasnformar em conunto de teste e conjunto de treino"
      ]
    },
    {
      "cell_type": "code",
      "metadata": {
        "id": "jO98RgQudJqu"
      },
      "source": [
        "df_treino,df_teste = train_test_split(df, test_size=0.3, random_state=42)"
      ],
      "execution_count": 3,
      "outputs": []
    },
    {
      "cell_type": "markdown",
      "metadata": {
        "id": "FK8kJjBbm_Nl"
      },
      "source": [
        "##1.4 normalizar as entradas (temperatura em kelvin e batimetria)"
      ]
    },
    {
      "cell_type": "code",
      "metadata": {
        "id": "ObbUvsnRnEzO"
      },
      "source": [
        "#Para Treino\n",
        "bat = np.array(df_treino['BATIMETRIA']).reshape(-1,1)\n",
        "temp = np.array(df_treino['TEMPERATURA']).reshape(-1,1)\n",
        "normalizacao_bat = MaxAbsScaler().fit(bat)\n",
        "normalizacao_temp = MaxAbsScaler().fit(temp)\n",
        "normalizacao_bat = normalizacao_bat.transform(bat)\n",
        "normalizacao_temp = normalizacao_temp.transform(temp)\n",
        "df_treino2 = df_treino.assign(BATIMETRIA_NORM = normalizacao_bat)\n",
        "df_treino2 = df_treino2.assign(TEMP_NORM = normalizacao_temp)\n",
        "#Para teste\n",
        "bat = np.array(df_teste['BATIMETRIA']).reshape(-1,1)\n",
        "temp = np.array(df_teste['TEMPERATURA']).reshape(-1,1)\n",
        "normalizacao_bat = MaxAbsScaler().fit(bat)\n",
        "normalizacao_temp = MaxAbsScaler().fit(temp)\n",
        "normalizacao_bat = normalizacao_bat.transform(bat)\n",
        "normalizacao_temp = normalizacao_temp.transform(temp)\n",
        "df_teste2 = df_teste.assign(BATIMETRIA_NORM = normalizacao_bat)\n",
        "df_teste2 = df_teste2.assign(TEMP_NORM = normalizacao_temp)"
      ],
      "execution_count": 44,
      "outputs": []
    },
    {
      "cell_type": "markdown",
      "metadata": {
        "id": "aJN7kgsQuVQS"
      },
      "source": [
        "##1.5 cria um novo df para teste e treino"
      ]
    },
    {
      "cell_type": "code",
      "metadata": {
        "id": "hHVZ9EUrtFbL"
      },
      "source": [
        "df_treino_final = pd.DataFrame(df_treino2[['ANO','MES','DIA','LATITUDE','LONGITUDE','SALINIDADE','BATIMETRIA_NORM','TEMP_NORM']])\n",
        "df_teste_final = pd.DataFrame(df_teste2[['ANO','MES','DIA','LATITUDE','LONGITUDE','SALINIDADE','BATIMETRIA_NORM','TEMP_NORM']])"
      ],
      "execution_count": 51,
      "outputs": []
    },
    {
      "cell_type": "code",
      "metadata": {
        "id": "K8Ihqu_ntpmg"
      },
      "source": [
        "df_teste_final = df_teste_final.reset_index()\n",
        "df_teste_final = df_teste_final.drop(columns=['index'])\n",
        "df_treino_final = df_treino_final.reset_index()\n",
        "df_treino_final = df_treino_final.drop(columns=['index'])"
      ],
      "execution_count": 55,
      "outputs": []
    },
    {
      "cell_type": "markdown",
      "metadata": {
        "id": "tvhCF2abugJu"
      },
      "source": [
        "##1.6 salva os df"
      ]
    },
    {
      "cell_type": "code",
      "metadata": {
        "id": "tqLGDDMQuRTJ"
      },
      "source": [
        "df_treino.to_parquet('/content/drive/MyDrive/df_treino')\n",
        "df_teste.to_parquet('/content/drive/MyDrive/df_teste')\n",
        "df_treino_final.to_parquet('/content/drive/MyDrive/df_treino_norm')\n",
        "df_teste_final.to_parquet('/content/drive/MyDrive/df_teste_norm')"
      ],
      "execution_count": 57,
      "outputs": []
    }
  ]
}