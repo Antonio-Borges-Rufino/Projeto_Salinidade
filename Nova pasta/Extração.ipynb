{
  "nbformat": 4,
  "nbformat_minor": 0,
  "metadata": {
    "colab": {
      "name": "Temp.ipynb",
      "provenance": []
    },
    "kernelspec": {
      "name": "python3",
      "display_name": "Python 3"
    },
    "language_info": {
      "name": "python"
    }
  },
  "cells": [
    {
      "cell_type": "markdown",
      "metadata": {
        "id": "z9mDgv5gXoxC"
      },
      "source": [
        "# O output desse código deve ser um arquivo com a extração das imagens de satélite com base nas coordenadas dos arquivos gerados anteriormente. O arquivo deve ser no formato ano-mes-dia"
      ]
    },
    {
      "cell_type": "markdown",
      "metadata": {
        "id": "f9IOlve8X4f-"
      },
      "source": [
        "## 1. Importar bibliotecas"
      ]
    },
    {
      "cell_type": "code",
      "metadata": {
        "id": "eMIQc9KhWQ-U"
      },
      "source": [
        "import subprocess\n",
        "import xarray as xr\n",
        "import pandas as pd"
      ],
      "execution_count": null,
      "outputs": []
    },
    {
      "cell_type": "markdown",
      "metadata": {
        "id": "D0KoqsTLX7ou"
      },
      "source": [
        "## 2. Criar subpasta e funções lambdas para tratarem a nomeclatura"
      ]
    },
    {
      "cell_type": "code",
      "metadata": {
        "id": "teVeZz9eWaxs",
        "colab": {
          "base_uri": "https://localhost:8080/"
        },
        "outputId": "2525d6f3-60d9-4cb2-88f5-e3e0c0d00d89"
      },
      "source": [
        "mes2 = lambda x: '0'+str(x) if x < 10 else str(x)\n",
        "dia2 = lambda x: '0'+str(x) if x < 10 else str(x)\n",
        "subprocess.run(['mkdir','/content/drive/MyDrive/dados_finais/'])"
      ],
      "execution_count": null,
      "outputs": [
        {
          "output_type": "execute_result",
          "data": {
            "text/plain": [
              "CompletedProcess(args=['mkdir', '/content/drive/MyDrive/dados_finais/'], returncode=1)"
            ]
          },
          "metadata": {},
          "execution_count": 2
        }
      ]
    },
    {
      "cell_type": "markdown",
      "metadata": {
        "id": "qE_z1A3VYGJo"
      },
      "source": [
        "## 3. Função para baixar imagens pelo site da nasa"
      ]
    },
    {
      "cell_type": "code",
      "metadata": {
        "id": "pzW6lgJAdxDU"
      },
      "source": [
        "def download_dia(ano,mes,dia):\n",
        "  mes_2 = mes2(mes)\n",
        "  dia_2 = dia2(dia)\n",
        "  nome = str(ano)+mes_2+dia_2\n",
        "  try:\n",
        "    link=\"https://archive.podaac.earthdata.nasa.gov/podaac-ops-cumulus-protected/MUR-JPL-L4-GLOB-v4.1/\"+nome+\"090000-JPL-L4_GHRSST-SSTfnd-MUR-GLOB-v02.0-fv04.1.nc\"\n",
        "    subprocess.run([\"wget\",'-c','-O'+nome,'--user=xxxxx','--password=xxxxxxx',link]) \n",
        "  except:\n",
        "    pass"
      ],
      "execution_count": null,
      "outputs": []
    },
    {
      "cell_type": "markdown",
      "metadata": {
        "id": "q4MTRdEnYPNr"
      },
      "source": [
        "## 4. Função para ler o arquivo ano - mes gerado anteriormente"
      ]
    },
    {
      "cell_type": "code",
      "metadata": {
        "id": "PK5XUsTxf2hQ"
      },
      "source": [
        "def arq_ano_mes(ano,mes):\n",
        "  df = pd.read_parquet('/content/drive/MyDrive/dados_transformados/'+str(ano)+'-'+str(mes))\n",
        "  return df"
      ],
      "execution_count": null,
      "outputs": []
    },
    {
      "cell_type": "markdown",
      "metadata": {
        "id": "pdTRUC3DYYVZ"
      },
      "source": [
        "## 5. Função para abrir a imagem baixada"
      ]
    },
    {
      "cell_type": "code",
      "metadata": {
        "id": "H1Ty2Oe6gOuX"
      },
      "source": [
        "def arq_img(ano,mes,dia):\n",
        "  try:\n",
        "    temp = xr.open_dataset('/content/'+str(ano)+str(mes2(mes))+str(dia2(dia)))\n",
        "    return temp\n",
        "  except:\n",
        "    temp = xr.open_dataset(None)\n",
        "    return temp"
      ],
      "execution_count": null,
      "outputs": []
    },
    {
      "cell_type": "markdown",
      "metadata": {
        "id": "vjqaxZQIYc_S"
      },
      "source": [
        "## 6. Função que cria um dataFrame com o dia da imagem baixada e seta uma coluna temperatura com valor fixo que irá ser substituido posteriormente pelos pontos das imagens extraidas"
      ]
    },
    {
      "cell_type": "code",
      "metadata": {
        "id": "htRSA3-_hIAx"
      },
      "source": [
        "def df_leitura_dia(df):\n",
        "  df2 = df.loc[df['DIA']==dia].reset_index()\n",
        "  df2 = df2.assign(TEMPERATURA=1.00)\n",
        "  return df2"
      ],
      "execution_count": null,
      "outputs": []
    },
    {
      "cell_type": "markdown",
      "metadata": {
        "id": "0s3hnZD9Yupk"
      },
      "source": [
        "## 7. Função que extrai os pontos das imagens"
      ]
    },
    {
      "cell_type": "code",
      "metadata": {
        "id": "p_N6843WiPiu"
      },
      "source": [
        "def gerarDfTepm(df2):\n",
        "  df2 = df2\n",
        "  longitude = df2[['LONGITUDE']]\n",
        "  latitude = df2[['LATITUDE']]\n",
        "  tamanho = len(df2)\n",
        "  posix = 0\n",
        "  while posix < tamanho:\n",
        "    gerarDf(df2,longitude,latitude,posix)\n",
        "    posix = posix+1\n",
        "  return df2"
      ],
      "execution_count": null,
      "outputs": []
    },
    {
      "cell_type": "markdown",
      "metadata": {
        "id": "aK1EvSGcY5dg"
      },
      "source": [
        "## 8. Função que extrai os pontos das imagens, ela que tem o trabalho de extrair de fato os pontos, enquanto a anterior cria um dataframe posicionando as imagens"
      ]
    },
    {
      "cell_type": "code",
      "metadata": {
        "id": "Z1YMwJNaiiSq"
      },
      "source": [
        "def gerarDf(df2,longitude,latitude,posix):\n",
        "  df2.loc[posix,'TEMPERATURA']=temp.sel(lon=[longitude.LONGITUDE[posix]], lat=[latitude.LATITUDE[posix]]).analysed_sst.data[0][0][0]"
      ],
      "execution_count": null,
      "outputs": []
    },
    {
      "cell_type": "markdown",
      "metadata": {
        "id": "vVdlzJoPZG_7"
      },
      "source": [
        "## 9. Essa função tem o trabalho de remover a imagem após os pontos dela ser extraido, isso faz sentido porque as imagens são grandes"
      ]
    },
    {
      "cell_type": "code",
      "metadata": {
        "id": "488lf9LKnjgy"
      },
      "source": [
        "def remove_arq(ano,mes,dia):\n",
        "  mes_2 = mes2(mes)\n",
        "  dia_2 = dia2(dia)\n",
        "  nome = str(ano)+mes_2+dia_2\n",
        "  subprocess.run(['rm','/content/'+nome])"
      ],
      "execution_count": null,
      "outputs": []
    },
    {
      "cell_type": "markdown",
      "metadata": {
        "id": "pXawvUy-ZOYl"
      },
      "source": [
        "## 10. Aqui está a junção de todo o processo e gerando um df"
      ]
    },
    {
      "cell_type": "code",
      "metadata": {
        "id": "XgPt6pYzWjsd",
        "colab": {
          "base_uri": "https://localhost:8080/"
        },
        "outputId": "cd4d18a2-19dd-4aa0-e190-d369d685d788"
      },
      "source": [
        "ano = input('Ano: ')\n",
        "mes = 1\n",
        "dia = 1\n",
        "while mes <= 12:\n",
        "  df = arq_ano_mes(ano,mes)\n",
        "  resultado = pd.DataFrame(data=None) \n",
        "  while dia <= 31:\n",
        "    download_dia(ano,mes,dia)\n",
        "    try:\n",
        "      temp = arq_img(ano,mes,dia)\n",
        "      df2 = df_leitura_dia(df)\n",
        "      df2 = gerarDfTepm(df2)\n",
        "      df2.to_parquet('/content/drive/MyDrive/dados_finais/'+str(ano)+'-'+str(mes)+'-'+str(dia))\n",
        "      remove_arq(ano,mes,dia)\n",
        "      dia = dia + 1\n",
        "    except:\n",
        "      remove_arq(ano,mes,dia)\n",
        "      dia = dia + 1\n",
        "  dia = 1\n",
        "  mes = mes+1 "
      ],
      "execution_count": null,
      "outputs": [
        {
          "name": "stdout",
          "output_type": "stream",
          "text": [
            "Ano: 2020\n"
          ]
        }
      ]
    }
  ]
}