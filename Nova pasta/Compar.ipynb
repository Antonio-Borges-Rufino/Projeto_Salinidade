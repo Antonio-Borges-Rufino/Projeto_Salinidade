{
  "nbformat": 4,
  "nbformat_minor": 0,
  "metadata": {
    "colab": {
      "name": "Compar.ipynb",
      "provenance": [],
      "collapsed_sections": []
    },
    "kernelspec": {
      "name": "python3",
      "display_name": "Python 3"
    },
    "language_info": {
      "name": "python"
    }
  },
  "cells": [
    {
      "cell_type": "code",
      "metadata": {
        "id": "enH7CTAh4Xj9"
      },
      "source": [
        "import pandas as pd\n",
        "import tensorflow as tf\n",
        "import numpy as np"
      ],
      "execution_count": null,
      "outputs": []
    },
    {
      "cell_type": "code",
      "metadata": {
        "id": "BiCmqvNz7lwX"
      },
      "source": [
        "df_teste = pd.read_parquet('/content/drive/MyDrive/df_teste_norm')\n",
        "df_treino = pd.read_parquet('/content/drive/MyDrive/df_treino_norm')\n",
        "df_treino = df_treino.dropna()\n",
        "df_teste = df_teste.dropna()\n",
        "df_treino2 = df_treino[['TEMP_NORM','BATIMETRIA_NORM']]\n",
        "df_teste2 = df_teste[['TEMP_NORM','BATIMETRIA_NORM']]\n",
        "lista = list()\n",
        "for x,i in df_treino2.values:\n",
        "  lista.append([x,i])\n",
        "sal_treino = np.array(df_treino.SALINIDADE)\n",
        "pr_treino = np.array(lista)\n",
        "lista = list()\n",
        "for x,i in df_teste2.values:\n",
        "  lista.append([x,i])\n",
        "sal_teste = np.array(df_teste.SALINIDADE)\n",
        "pr_teste = np.array(lista)\n",
        "pr_teste2 = pr_teste.reshape(pr_teste.shape[0],pr_teste.shape[1],1)\n",
        "pr_treino2 = pr_treino.reshape(pr_treino.shape[0],pr_treino.shape[1],1)"
      ],
      "execution_count": null,
      "outputs": []
    },
    {
      "cell_type": "code",
      "metadata": {
        "id": "6K8liuAj7v8r"
      },
      "source": [
        "def redeDensa():\n",
        "  input = tf.keras.layers.Input(2)\n",
        "  dense = tf.keras.layers.Dense(30,activation='relu')(input)\n",
        "  dense = tf.keras.layers.Dense(30,activation='relu')(dense)\n",
        "  dense = tf.keras.layers.Dropout(0.2)(dense)\n",
        "  outp = tf.keras.layers.Dense(1)(dense)\n",
        "  modelo = tf.keras.Model(inputs=input, outputs=outp)\n",
        "  adan = tf.keras.optimizers.Adam(learning_rate=0.001)\n",
        "  modelo.compile(optimizer=adan, loss='mse', metrics=['mae','mse'])\n",
        "  return modelo\n",
        "\n",
        "def redeLSTM():\n",
        "  input = tf.keras.layers.Input(shape=(2,1), name='Bat_Temp')\n",
        "  lstm = tf.keras.layers.LSTM(units=30,activation='relu')(input)\n",
        "  output = tf.keras.layers.Dense(1,name='salinidade')(lstm)\n",
        "  modelo = tf.keras.Model(inputs=input, outputs=output)\n",
        "  adan = tf.keras.optimizers.Adam(learning_rate=0.007)\n",
        "  modelo.compile(optimizer=adan, loss='mse', metrics=['mae','mse'])\n",
        "  return modelo\n",
        "\n",
        "def redeGRU():\n",
        "  input = tf.keras.layers.Input(shape=(2,1), name='Bat_Temp')\n",
        "  GRU = tf.keras.layers.GRU(units=85,activation='relu')(input)\n",
        "  output = tf.keras.layers.Dense(1,name='salinidade')(GRU)\n",
        "  modelo = tf.keras.Model(inputs=input, outputs=output)\n",
        "  adan = tf.keras.optimizers.Adam(learning_rate=0.001)\n",
        "  modelo.compile(optimizer=adan, loss='mse', metrics=['mae','mse'])\n",
        "  return modelo\n",
        "\n",
        "def redeBi_LSTM():\n",
        "  input = tf.keras.layers.Input(shape=(2,1), name='Bat_Temp')\n",
        "  lstm = tf.keras.layers.Bidirectional(tf.keras.layers.LSTM(units=60,activation='relu',return_sequences=True))(input)\n",
        "  lstm = tf.keras.layers.Bidirectional(tf.keras.layers.LSTM(units=60,activation='relu'))(lstm)\n",
        "  output = tf.keras.layers.Dense(1,name='salinidade')(lstm)\n",
        "  modelo = tf.keras.Model(inputs=input, outputs=output)\n",
        "  adan = tf.keras.optimizers.Adam(learning_rate=0.005)\n",
        "  modelo.compile(optimizer=adan, loss='mse', metrics=['mae','mse'])\n",
        "  return modelo\n",
        "\n",
        "def redeBi_GRU():\n",
        "  input = tf.keras.layers.Input(shape=(2,1), name='Bat_Temp')\n",
        "  GRU = tf.keras.layers.Bidirectional(tf.keras.layers.GRU(units=75,activation='relu',return_sequences=True))(input)\n",
        "  GRU = tf.keras.layers.Bidirectional(tf.keras.layers.GRU(units=75,activation='relu'))(GRU)\n",
        "  output = tf.keras.layers.Dense(1,name='salinidade')(GRU)\n",
        "  modelo = tf.keras.Model(inputs=input, outputs=output)\n",
        "  adan = tf.keras.optimizers.Adam(learning_rate=0.001)\n",
        "  modelo.compile(optimizer=adan, loss='mse', metrics=['mae','mse'])\n",
        "  return modelo "
      ],
      "execution_count": null,
      "outputs": []
    },
    {
      "cell_type": "code",
      "metadata": {
        "id": "YMyr1aAT-mag"
      },
      "source": [
        "denseR = redeDensa()\n",
        "lstmR = redeLSTM()\n",
        "gruR = redeGRU()\n",
        "bilstmR = redeBi_LSTM()\n",
        "bigruR = redeBi_GRU()"
      ],
      "execution_count": null,
      "outputs": []
    },
    {
      "cell_type": "code",
      "metadata": {
        "id": "rGQLwZ8E_e5A"
      },
      "source": [
        "denseR.fit(pr_treino,sal_treino,epochs=39,batch_size=120)\n",
        "x_dense,y_dense,z_dense = denseR.evaluate(pr_teste,sal_teste)\n",
        "print('MSE: {} \\n MAE: {}'.format(x_dense,y_dense))"
      ],
      "execution_count": null,
      "outputs": []
    },
    {
      "cell_type": "code",
      "metadata": {
        "id": "MmGau1s8cxRn"
      },
      "source": [
        "lstmR.fit(pr_treino2,sal_treino,epochs=85,batch_size=120)\n",
        "x_lstm,y_lstm,z_lstm = lstmR.evaluate(pr_teste2,sal_teste)\n",
        "print('MSE: {} \\n MAE: {}'.format(x_lstm,y_lstm))"
      ],
      "execution_count": null,
      "outputs": []
    },
    {
      "cell_type": "code",
      "metadata": {
        "id": "Eu3cBo5VcvEw"
      },
      "source": [
        "gruR.fit(pr_treino2,sal_treino,epochs=99,batch_size=120)\n",
        "x_gru,y_gru,z_gru = gruR.evaluate(pr_teste2,sal_teste)\n",
        "print('MSE: {} \\n MAE: {}'.format(x_gru,y_gru))"
      ],
      "execution_count": null,
      "outputs": []
    },
    {
      "cell_type": "code",
      "metadata": {
        "id": "v9U-AzCJqzua"
      },
      "source": [
        "bilstmR.fit(pr_treino2,sal_treino,epochs=98,batch_size=120)\n",
        "x_bilstm,y_bilstm,z_bilstm = bilstmR.evaluate(pr_teste2,sal_teste)\n",
        "print('MSE: {} \\n MAE: {}'.format(x_bilstm,y_bilstm))"
      ],
      "execution_count": null,
      "outputs": []
    },
    {
      "cell_type": "code",
      "metadata": {
        "id": "xuwqaMjHsGM6"
      },
      "source": [
        "bigruR.fit(pr_treino2,sal_treino,epochs=100,batch_size=120)\n",
        "x_bigru,y_bigru,z_bigru = bigruR.evaluate(pr_teste2,sal_teste)\n",
        "print('MSE: {} \\n MAE: {}'.format(x_bigru,y_bigru))"
      ],
      "execution_count": null,
      "outputs": []
    },
    {
      "cell_type": "markdown",
      "metadata": {
        "id": "99kKu5HikCP9"
      },
      "source": [
        "----------Dense------------\n",
        "\n",
        "\n",
        "MAE: 0.9072026014328003\n",
        "\n",
        "MSE: 4.460409641265869 \n",
        "\n",
        "\n",
        "---------LSTM--------------\n",
        "\n",
        "\n",
        "MAE: 0.8655350208282471\n",
        "\n",
        "MSE: 4.325561046600342\n",
        "\n",
        "\n",
        "---------GRU---------------\n",
        "\n",
        "\n",
        "MAE: 0.8504917025566101\n",
        "\n",
        "MSE: 4.337936878204346 \n",
        "\n",
        "\n",
        "----------BI-LSTM---------\n",
        "\n",
        "\n",
        "MAE: 0.8729144930839539\n",
        "\n",
        "MSE: 4.260308265686035 \n",
        "\n",
        "\n",
        "---------BI-GRU------------\n",
        "\n",
        "\n",
        "MAE: 0.8751853108406067\n",
        "\n",
        "MSE: 4.290380477905273 \n",
        " "
      ]
    }
  ]
}