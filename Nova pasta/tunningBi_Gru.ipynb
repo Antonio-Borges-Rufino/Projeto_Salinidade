{
  "nbformat": 4,
  "nbformat_minor": 0,
  "metadata": {
    "colab": {
      "name": "tunningBi-Gru.ipynb",
      "provenance": [],
      "collapsed_sections": []
    },
    "kernelspec": {
      "name": "python3",
      "display_name": "Python 3"
    },
    "language_info": {
      "name": "python"
    }
  },
  "cells": [
    {
      "cell_type": "markdown",
      "metadata": {
        "id": "pRF_-fOSVQE6"
      },
      "source": [
        "#1. Tunning de parametros para rede Bi-Gru\n",
        "##2. especificações do tunning\n",
        "\n",
        "Camadas ocultas|Neuronios|Taxa de aprendizagem|Função de aprendizagem| Epocas\n",
        "---------------|---------|--------------------|---------|---------|\n",
        "        1      |  10-x+5-100   | 0.001 - 0.01       |Relu| 10-x+10- 100      \n",
        "  \n",
        "        \n",
        "##3. importar as bibliotecas"
      ]
    },
    {
      "cell_type": "markdown",
      "metadata": {
        "id": "m261eM9_Vpri"
      },
      "source": [
        "###3.1 instalar a biblioteca do keras prórpia para o tunning\n",
        "\n"
      ]
    },
    {
      "cell_type": "code",
      "metadata": {
        "id": "u1SsDpXj7NTh",
        "colab": {
          "base_uri": "https://localhost:8080/"
        },
        "outputId": "171e2b04-7dbe-4fd1-fb85-3e942ddcac67"
      },
      "source": [
        "pip install -q -U keras-tuner"
      ],
      "execution_count": null,
      "outputs": [
        {
          "output_type": "stream",
          "name": "stdout",
          "text": [
            "\u001b[?25l\r\u001b[K     |███▍                            | 10 kB 17.7 MB/s eta 0:00:01\r\u001b[K     |██████▊                         | 20 kB 23.6 MB/s eta 0:00:01\r\u001b[K     |██████████                      | 30 kB 13.7 MB/s eta 0:00:01\r\u001b[K     |█████████████▍                  | 40 kB 10.1 MB/s eta 0:00:01\r\u001b[K     |████████████████▊               | 51 kB 5.5 MB/s eta 0:00:01\r\u001b[K     |████████████████████            | 61 kB 6.0 MB/s eta 0:00:01\r\u001b[K     |███████████████████████▍        | 71 kB 5.8 MB/s eta 0:00:01\r\u001b[K     |██████████████████████████▊     | 81 kB 6.5 MB/s eta 0:00:01\r\u001b[K     |██████████████████████████████  | 92 kB 4.9 MB/s eta 0:00:01\r\u001b[K     |████████████████████████████████| 98 kB 3.1 MB/s \n",
            "\u001b[?25h"
          ]
        }
      ]
    },
    {
      "cell_type": "markdown",
      "metadata": {
        "id": "-S4bmiOOVuUA"
      },
      "source": [
        "###3.2 importar todas as bibliotecas que serão usadas no processo"
      ]
    },
    {
      "cell_type": "code",
      "metadata": {
        "id": "j2T-gFxa6165"
      },
      "source": [
        "import pandas as pd\n",
        "import tensorflow as tf\n",
        "import numpy as np\n",
        "import keras_tuner as kt"
      ],
      "execution_count": null,
      "outputs": []
    },
    {
      "cell_type": "markdown",
      "metadata": {
        "id": "uDg3aUd0V0UF"
      },
      "source": [
        "##4. Importar os dataset e deixar o dataset na estrutura de entrada"
      ]
    },
    {
      "cell_type": "code",
      "metadata": {
        "id": "tlhijEbf7MB4"
      },
      "source": [
        "df_teste = pd.read_parquet('/content/drive/MyDrive/df_teste_norm')\n",
        "df_treino = pd.read_parquet('/content/drive/MyDrive/df_treino_norm')\n",
        "df_treino = df_treino.dropna()\n",
        "df_teste = df_teste.dropna()\n",
        "df_treino2 = df_treino[['TEMP_NORM','BATIMETRIA_NORM']]\n",
        "df_teste2 = df_teste[['TEMP_NORM','BATIMETRIA_NORM']]\n",
        "lista = list()\n",
        "for x,i in df_treino2.values:\n",
        "  lista.append([x,i])\n",
        "sal_treino = np.array(df_treino.SALINIDADE)\n",
        "pr_treino = np.array(lista)\n",
        "lista = list()\n",
        "for x,i in df_teste2.values:\n",
        "  lista.append([x,i])\n",
        "sal_teste = np.array(df_teste.SALINIDADE)\n",
        "pr_teste = np.array(lista)\n",
        "pr_teste = pr_teste.reshape(pr_teste.shape[0],pr_teste.shape[1],1)\n",
        "pr_treino = pr_treino.reshape(pr_treino.shape[0],pr_treino.shape[1],1)"
      ],
      "execution_count": null,
      "outputs": []
    },
    {
      "cell_type": "markdown",
      "metadata": {
        "id": "OoYbAtcCWTg0"
      },
      "source": [
        "## 5. Fazer o tunning"
      ]
    },
    {
      "cell_type": "code",
      "metadata": {
        "id": "Kuz4QZlH7UaD"
      },
      "source": [
        "def KerasTunnerGRU1(hp):\n",
        "  input = tf.keras.layers.Input(shape=(2,1), name='Bat_Temp')\n",
        "  hiper_param = hp.Int('units', min_value=10, max_value=100, step=5)\n",
        "  GRU = tf.keras.layers.Bidirectional(tf.keras.layers.GRU(units=hiper_param,activation='relu',return_sequences=True))(input)\n",
        "  GRU = tf.keras.layers.Bidirectional(tf.keras.layers.GRU(units=hiper_param,activation='relu'))(GRU)\n",
        "  output = tf.keras.layers.Dense(1,name='salinidade')(GRU)\n",
        "  modelo = tf.keras.Model(inputs=input, outputs=output)\n",
        "  taxa_apren =  hp.Choice('learning_rate', values=[0.001,0.002,0.003,0.004,0.005,0.006,0.007,0.008,0.009,0.01])\n",
        "  adan = tf.keras.optimizers.Adam(learning_rate=taxa_apren)\n",
        "  modelo.compile(optimizer=adan, loss='mse', metrics=['mae','mse'])\n",
        "  return modelo\n",
        "\n",
        "tuner = kt.Hyperband(KerasTunnerGRU1,\n",
        "                     objective='val_mae',\n",
        "                     max_epochs=10,\n",
        "                     factor=3,\n",
        "                     directory='my_dir2',\n",
        "                     project_name='salinidade')\n",
        "stop_early = tf.keras.callbacks.EarlyStopping(monitor='val_loss', patience=5)\n",
        "tuner.search(pr_teste, sal_teste,epochs=10,batch_size=120,validation_split=0.2, callbacks=[stop_early])\n",
        "best_hps=tuner.get_best_hyperparameters(num_trials=1)[0]"
      ],
      "execution_count": null,
      "outputs": []
    },
    {
      "cell_type": "markdown",
      "metadata": {
        "id": "dQye4PWXWYWl"
      },
      "source": [
        "###5.1 Resultado"
      ]
    },
    {
      "cell_type": "code",
      "metadata": {
        "colab": {
          "base_uri": "https://localhost:8080/"
        },
        "id": "IM-WYJEvIgfw",
        "outputId": "72912a65-6200-4ef6-b5d8-f186df0042cc"
      },
      "source": [
        "best_hps.values"
      ],
      "execution_count": null,
      "outputs": [
        {
          "output_type": "execute_result",
          "data": {
            "text/plain": [
              "{'learning_rate': 0.001,\n",
              " 'tuner/bracket': 0,\n",
              " 'tuner/epochs': 10,\n",
              " 'tuner/initial_epoch': 0,\n",
              " 'tuner/round': 0,\n",
              " 'units': 75}"
            ]
          },
          "metadata": {},
          "execution_count": 6
        }
      ]
    },
    {
      "cell_type": "markdown",
      "metadata": {
        "id": "DKUuXZXJWcjP"
      },
      "source": [
        "##6. Melhor época para os dados de teste"
      ]
    },
    {
      "cell_type": "markdown",
      "metadata": {
        "id": "dal2K1eUWyIF"
      },
      "source": [
        "###6.1 criar função"
      ]
    },
    {
      "cell_type": "code",
      "metadata": {
        "id": "T8VHrhoyW08P"
      },
      "source": [
        "def KerasTunnerBiGru():\n",
        "  input = tf.keras.layers.Input(shape=(2,1), name='Bat_Temp')\n",
        "  GRU = tf.keras.layers.Bidirectional(tf.keras.layers.GRU(units=best_hps['units'],activation='relu',return_sequences=True))(input)\n",
        "  GRU = tf.keras.layers.Bidirectional(tf.keras.layers.GRU(units=best_hps['units'],activation='relu'))(GRU)\n",
        "  output = tf.keras.layers.Dense(1,name='salinidade')(GRU)\n",
        "  modelo = tf.keras.Model(inputs=input, outputs=output)\n",
        "  adan = tf.keras.optimizers.Adam(learning_rate=best_hps['learning_rate'])\n",
        "  modelo.compile(optimizer=adan, loss='mse', metrics=['mae','mse'])\n",
        "  return modelo"
      ],
      "execution_count": null,
      "outputs": []
    },
    {
      "cell_type": "markdown",
      "metadata": {
        "id": "WOnR6Y2dXBiy"
      },
      "source": [
        "###6.2 treinar o modelo com os dados de teste para a melhor epoca"
      ]
    },
    {
      "cell_type": "code",
      "metadata": {
        "id": "ZDv1cLHAWh1-"
      },
      "source": [
        "modelo  = KerasTunnerBiGru()\n",
        "best_epoch = modelo.fit(pr_treino,sal_treino,epochs=100,batch_size=120)\n",
        "val_acc_per_epoch = best_epoch.history['mae']\n",
        "best_epoch = val_acc_per_epoch.index(min(val_acc_per_epoch))+1"
      ],
      "execution_count": null,
      "outputs": []
    },
    {
      "cell_type": "code",
      "metadata": {
        "id": "U-ITGUJubBKo"
      },
      "source": [
        "modelo = KerasTunnerBiGru()\n",
        "modelo.fit(pr_treino,sal_treino,epochs=100,batch_size=120)\n",
        "modelo.evaluate(pr_teste,sal_teste)"
      ],
      "execution_count": null,
      "outputs": []
    },
    {
      "cell_type": "markdown",
      "metadata": {
        "id": "er8nZuyDh7yR"
      },
      "source": [
        "#RESULTADO\n",
        "MAE ~0.92\n",
        "\n",
        "MSE: ~4.30\n",
        "\n",
        "TAXA DE APRENDIZAGEM: 0.001\n",
        "\n",
        "EPOCH: 100\n",
        "\n",
        "NEURONIOS: 75"
      ]
    }
  ]
}