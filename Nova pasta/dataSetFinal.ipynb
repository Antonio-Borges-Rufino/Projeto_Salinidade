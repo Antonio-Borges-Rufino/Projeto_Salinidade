{
  "nbformat": 4,
  "nbformat_minor": 0,
  "metadata": {
    "colab": {
      "name": "dataSetFinal.ipynb",
      "provenance": [],
      "collapsed_sections": []
    },
    "kernelspec": {
      "name": "python3",
      "display_name": "Python 3"
    },
    "language_info": {
      "name": "python"
    }
  },
  "cells": [
    {
      "cell_type": "markdown",
      "metadata": {
        "id": "bIR9Umkki1OK"
      },
      "source": [
        "#1. O output desse processamento deve ser o dataset final reunindo todos os dados"
      ]
    },
    {
      "cell_type": "markdown",
      "metadata": {
        "id": "gZWk9xupjApN"
      },
      "source": [
        "##1.1 import apenas as bbibliotecas"
      ]
    },
    {
      "cell_type": "code",
      "metadata": {
        "id": "qao7QWBkilVB"
      },
      "source": [
        "import pandas as pd\n",
        "import xarray as xr"
      ],
      "execution_count": 1,
      "outputs": []
    },
    {
      "cell_type": "markdown",
      "metadata": {
        "id": "goEYVZQ5jF9W"
      },
      "source": [
        "##1.2 import todos os df de salinidade e temperatura e o df de batimetria"
      ]
    },
    {
      "cell_type": "code",
      "metadata": {
        "id": "WzrGTrUGjKyf"
      },
      "source": [
        "df_Salinidade = pd.read_parquet('/content/drive/MyDrive/2003-2020-Completo')\n",
        "df_Batimetria = pd.read_parquet('/content/drive/MyDrive/batimetria_parquet')"
      ],
      "execution_count": 2,
      "outputs": []
    },
    {
      "cell_type": "markdown",
      "metadata": {
        "id": "OvN7jW6njkzP"
      },
      "source": [
        "##1.3 Criar um novo dataFrame com os dados de salinidade e temperatura"
      ]
    },
    {
      "cell_type": "code",
      "metadata": {
        "id": "XXTfyMu7jwe6"
      },
      "source": [
        "df = df_Salinidade.reset_index()\n",
        "df_Batimetria = df_Batimetria.reset_index()"
      ],
      "execution_count": 3,
      "outputs": []
    },
    {
      "cell_type": "code",
      "metadata": {
        "colab": {
          "base_uri": "https://localhost:8080/",
          "height": 111
        },
        "id": "85w6nLvEj7w-",
        "outputId": "26548640-3418-4c61-a4d9-206e5d34774c"
      },
      "source": [
        "df.head(2)"
      ],
      "execution_count": 4,
      "outputs": [
        {
          "output_type": "execute_result",
          "data": {
            "text/html": [
              "<div>\n",
              "<style scoped>\n",
              "    .dataframe tbody tr th:only-of-type {\n",
              "        vertical-align: middle;\n",
              "    }\n",
              "\n",
              "    .dataframe tbody tr th {\n",
              "        vertical-align: top;\n",
              "    }\n",
              "\n",
              "    .dataframe thead th {\n",
              "        text-align: right;\n",
              "    }\n",
              "</style>\n",
              "<table border=\"1\" class=\"dataframe\">\n",
              "  <thead>\n",
              "    <tr style=\"text-align: right;\">\n",
              "      <th></th>\n",
              "      <th>level_0</th>\n",
              "      <th>index</th>\n",
              "      <th>ANO</th>\n",
              "      <th>MES</th>\n",
              "      <th>DIA</th>\n",
              "      <th>LATITUDE</th>\n",
              "      <th>LONGITUDE</th>\n",
              "      <th>SALINIDADE</th>\n",
              "      <th>TEMPERATURA</th>\n",
              "    </tr>\n",
              "  </thead>\n",
              "  <tbody>\n",
              "    <tr>\n",
              "      <th>0</th>\n",
              "      <td>0</td>\n",
              "      <td>0</td>\n",
              "      <td>2003</td>\n",
              "      <td>1</td>\n",
              "      <td>1</td>\n",
              "      <td>-0.01</td>\n",
              "      <td>0.00</td>\n",
              "      <td>34.745</td>\n",
              "      <td>301.532990</td>\n",
              "    </tr>\n",
              "    <tr>\n",
              "      <th>1</th>\n",
              "      <td>1</td>\n",
              "      <td>1</td>\n",
              "      <td>2003</td>\n",
              "      <td>1</td>\n",
              "      <td>1</td>\n",
              "      <td>-0.01</td>\n",
              "      <td>0.01</td>\n",
              "      <td>34.750</td>\n",
              "      <td>301.527008</td>\n",
              "    </tr>\n",
              "  </tbody>\n",
              "</table>\n",
              "</div>"
            ],
            "text/plain": [
              "   level_0  index   ANO  MES  DIA  LATITUDE  LONGITUDE  SALINIDADE  TEMPERATURA\n",
              "0        0      0  2003    1    1     -0.01       0.00      34.745   301.532990\n",
              "1        1      1  2003    1    1     -0.01       0.01      34.750   301.527008"
            ]
          },
          "metadata": {},
          "execution_count": 4
        }
      ]
    },
    {
      "cell_type": "markdown",
      "metadata": {
        "id": "fSqGH5Vsj0Oj"
      },
      "source": [
        "##1.4 Inserir nesse novo df os dados de batimetria correspondentes as coordenadas"
      ]
    },
    {
      "cell_type": "markdown",
      "metadata": {
        "id": "zhjESm9mWLaU"
      },
      "source": [
        "###1.4.1 o pandas possui um tempo muito grande para fazer manipulção e pesquisa, então vou usar o xarray multindex"
      ]
    },
    {
      "cell_type": "code",
      "metadata": {
        "id": "rM0vxY8X_54L"
      },
      "source": [
        "batimetria_mtI = pd.DataFrame({'Longitude':df_Batimetria['Longitude'],'Latitude':df_Batimetria['Latitude'],'Batimetria':df_Batimetria['Batimetria']})\n",
        "batimetria_mtI = batimetria_mtI.set_index(['Latitude','Longitude'])\n",
        "batimetria_mtI = batimetria_mtI.to_xarray()"
      ],
      "execution_count": 5,
      "outputs": []
    },
    {
      "cell_type": "markdown",
      "metadata": {
        "id": "daFzSMjmWuGn"
      },
      "source": [
        "###1.4.2 agora com o multindex o tempo de execução cai bastante, no próximo bloco vou apenas pegar todas as batimetrias para as latitudes e longitudes"
      ]
    },
    {
      "cell_type": "code",
      "metadata": {
        "id": "noSYIiOvGZAf"
      },
      "source": [
        "qtd = len(df)\n",
        "bat = list()\n",
        "count = 0\n",
        "for bt in range(qtd):\n",
        "  lat = df.loc[bt,'LATITUDE']\n",
        "  lon = df.loc[bt,'LONGITUDE']\n",
        "  try:\n",
        "    batime = batimetria_mtI.sel(Latitude=[lat],Longitude=[lon]).Batimetria.data[0][0]\n",
        "  except:\n",
        "    batime = 0\n",
        "  bat.append([batime])\n",
        "  count = count + 1"
      ],
      "execution_count": 13,
      "outputs": []
    },
    {
      "cell_type": "code",
      "metadata": {
        "id": "0OkxyMAsTLBG"
      },
      "source": [
        "qtd = len(bat)\n",
        "batimetria_total = list()\n",
        "for x in range(qtd):\n",
        "  batimetria_total.append(bat[x][0])"
      ],
      "execution_count": 25,
      "outputs": []
    },
    {
      "cell_type": "markdown",
      "metadata": {
        "id": "387AxAFQW-MK"
      },
      "source": [
        "##1.5 agora crio uma coluna no pandas para a batimetria e um novo df para ficar mais organizado"
      ]
    },
    {
      "cell_type": "code",
      "metadata": {
        "id": "nzRDfZqwTTyA"
      },
      "source": [
        "df['BATIMETRIA']=batimetria_total\n",
        "df2 = df[['ANO','MES','DIA','LATITUDE','LONGITUDE','SALINIDADE','TEMPERATURA','BATIMETRIA']]"
      ],
      "execution_count": 26,
      "outputs": []
    },
    {
      "cell_type": "markdown",
      "metadata": {
        "id": "llN3dWa2XLSm"
      },
      "source": [
        "##1.6 existe um problema dentro da batimetria, muitas regiões estão com latitude e longitude unica de 1 metro, o que configura que quando se passa para 1km ela pode ficar mais fácil de gerar, mas em compensação existe uma relativa perda de dados. como não temos informações circulares do exato ponto da resolução em km para se tirar uma média, apenas deletei os valores em branco ou nao encontrados e salvei o dataSet final pronto para o turing de parametros"
      ]
    },
    {
      "cell_type": "code",
      "metadata": {
        "id": "U0zhb57eVEMy"
      },
      "source": [
        "df2 = df2.loc[df2['BATIMETRIA']!= 0.0]\n",
        "df2.to_parquet('/content/drive/MyDrive/dataSetFinal')"
      ],
      "execution_count": 36,
      "outputs": []
    }
  ]
}