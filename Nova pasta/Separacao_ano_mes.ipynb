{
  "nbformat": 4,
  "nbformat_minor": 0,
  "metadata": {
    "colab": {
      "name": "Separacao_ano_mes.ipynb",
      "provenance": []
    },
    "kernelspec": {
      "name": "python3",
      "display_name": "Python 3"
    },
    "language_info": {
      "name": "python"
    }
  },
  "cells": [
    {
      "cell_type": "markdown",
      "metadata": {
        "id": "LuRc-9tL-Ii8"
      },
      "source": [
        "# O output gerado qui é um arquivo em formato parquet contendo as informações das coletas em situ separadas por ANO-MES para serem utilizados no download das imagens"
      ]
    },
    {
      "cell_type": "markdown",
      "metadata": {
        "id": "uVwWI6s3-bCB"
      },
      "source": [
        "##1. Importando as bibliotecas"
      ]
    },
    {
      "cell_type": "code",
      "metadata": {
        "id": "ruDVqVVjoT1i"
      },
      "source": [
        "import subprocess\n",
        "import pandas as pd"
      ],
      "execution_count": 1,
      "outputs": []
    },
    {
      "cell_type": "markdown",
      "metadata": {
        "id": "orqyuIws-eB4"
      },
      "source": [
        "## 2. Gerando um unico dataframe com todas as formas de coleta em situ"
      ]
    },
    {
      "cell_type": "code",
      "metadata": {
        "id": "4oYckNzjogdl"
      },
      "source": [
        "df = pd.DataFrame(data=None)\n",
        "argo = pd.read_csv('/content/drive/MyDrive/dados_argo.csv')\n",
        "bottles = pd.read_csv('/content/drive/MyDrive/dados_bottles.csv')\n",
        "tsg = pd.read_csv('/content/drive/MyDrive/dados_tsg.csv')\n",
        "df = pd.concat([argo,bottles,tsg])"
      ],
      "execution_count": 2,
      "outputs": []
    },
    {
      "cell_type": "markdown",
      "metadata": {
        "id": "y7YQAmPy-oD1"
      },
      "source": [
        "## 3. Inicializando a variavel contadora"
      ]
    },
    {
      "cell_type": "code",
      "metadata": {
        "id": "8dGIvYVa0Xub"
      },
      "source": [
        "ano = 2003\n",
        "mes = 1"
      ],
      "execution_count": 3,
      "outputs": []
    },
    {
      "cell_type": "markdown",
      "metadata": {
        "id": "1vjzXVil-sJ1"
      },
      "source": [
        "## 4. criando um dataframe a partir de um localizador, localizando o ano e o mes e salvandos os dados referentes no drive"
      ]
    },
    {
      "cell_type": "code",
      "metadata": {
        "id": "5B89KBEy0nQR"
      },
      "source": [
        "resultado = pd.DataFrame(data=None)\n",
        "while ano <= 2020:\n",
        "  while mes <=12:\n",
        "    resultado = df.loc[(df['ANO']==ano)&(df['MES']==mes)].sort_values('DIA')\n",
        "    resultado = resultado[['ANO','MES','DIA','LATITUDE','LONGITUDE','SALINIDADE','TIPO']]\n",
        "    resultado.to_parquet('/content/drive/MyDrive/Dados/'+str(ano)+'-'+str(mes))\n",
        "    mes = mes + 1\n",
        "  mes = 1\n",
        "  ano = ano+1"
      ],
      "execution_count": 4,
      "outputs": []
    }
  ]
}