{
  "nbformat": 4,
  "nbformat_minor": 0,
  "metadata": {
    "colab": {
      "name": "Ajeitar_Situ.ipynb",
      "provenance": [],
      "collapsed_sections": []
    },
    "kernelspec": {
      "name": "python3",
      "display_name": "Python 3"
    },
    "language_info": {
      "name": "python"
    }
  },
  "cells": [
    {
      "cell_type": "markdown",
      "metadata": {
        "id": "q1TytPZSKIOP"
      },
      "source": [
        "# Alguns arquivos de salinidade em situ vieram corrompidos, para não perder dados, aqui está o processo que estou fazendo para ajeitar o aquivo"
      ]
    },
    {
      "cell_type": "markdown",
      "metadata": {
        "id": "AoZJa1j5KYHW"
      },
      "source": [
        "##1. Importando bibliotecas necessárias"
      ]
    },
    {
      "cell_type": "code",
      "metadata": {
        "id": "wKtAV0TO749l"
      },
      "source": [
        "import subprocess\n",
        "import netCDF4\n",
        "import pandas as pd"
      ],
      "execution_count": 1,
      "outputs": []
    },
    {
      "cell_type": "markdown",
      "metadata": {
        "id": "8BEtAvW9N7hn"
      },
      "source": [
        "###1.1 Crie as pastas de apoio"
      ]
    },
    {
      "cell_type": "code",
      "metadata": {
        "colab": {
          "base_uri": "https://localhost:8080/"
        },
        "id": "DQg0xmY9NpVy",
        "outputId": "953f7f70-552d-4ca5-9d2c-7a913ba460f8"
      },
      "source": [
        "subprocess.run(['mkdir','/content/Passo1'])\n",
        "subprocess.run(['mkdir','/content/Passo2'])\n",
        "subprocess.run(['mkdir','/content/Passo3'])"
      ],
      "execution_count": 73,
      "outputs": [
        {
          "output_type": "execute_result",
          "data": {
            "text/plain": [
              "CompletedProcess(args=['mkdir', '/content/Passo3'], returncode=1)"
            ]
          },
          "metadata": {},
          "execution_count": 73
        }
      ]
    },
    {
      "cell_type": "markdown",
      "metadata": {
        "id": "Tbm5DOCn43s0"
      },
      "source": [
        "###1.2 Extrair o arquivo comprimido do drive para o colab\n"
      ]
    },
    {
      "cell_type": "code",
      "metadata": {
        "colab": {
          "base_uri": "https://localhost:8080/"
        },
        "id": "-RomGx2tAozG",
        "outputId": "22fd6ae7-8c9d-474d-85e5-efa86ad9f557"
      },
      "source": [
        "subprocess.run(['unrar','x','/content/drive/MyDrive/2006.rar'])"
      ],
      "execution_count": 154,
      "outputs": [
        {
          "output_type": "execute_result",
          "data": {
            "text/plain": [
              "CompletedProcess(args=['unrar', 'x', '/content/drive/MyDrive/2006.rar'], returncode=0)"
            ]
          },
          "metadata": {},
          "execution_count": 154
        }
      ]
    },
    {
      "cell_type": "markdown",
      "metadata": {
        "id": "l6_Hv2xrR0dn"
      },
      "source": [
        "##2. Primeiro vou converter os csv para arquivos que podem ser lidos no excel, trocando a (,) por (;) e o (.) por (,)"
      ]
    },
    {
      "cell_type": "markdown",
      "metadata": {
        "id": "V4sXYr0HKc_l"
      },
      "source": [
        "###2.1 Resgantando todos os arquivos e os tranformando em um array de nome de arquivos"
      ]
    },
    {
      "cell_type": "code",
      "metadata": {
        "colab": {
          "base_uri": "https://localhost:8080/",
          "height": 35
        },
        "id": "iucsn5QN7_Q6",
        "outputId": "abb52a75-4a6d-45c8-e39a-1d0fd41ccb06"
      },
      "source": [
        "files = subprocess.getoutput(['ls','/content/'])\n",
        "files = files.split()\n",
        "files.pop()\n",
        "files.pop()\n",
        "files.pop()\n",
        "files.pop()\n",
        "files.pop()"
      ],
      "execution_count": 156,
      "outputs": [
        {
          "output_type": "execute_result",
          "data": {
            "application/vnd.google.colaboratory.intrinsic+json": {
              "type": "string"
            },
            "text/plain": [
              "'drive'"
            ]
          },
          "metadata": {},
          "execution_count": 156
        }
      ]
    },
    {
      "cell_type": "markdown",
      "metadata": {
        "id": "CCfVDYBFTFiy"
      },
      "source": [
        "###2.2 Fazendo a mudança de (,) para (;)"
      ]
    },
    {
      "cell_type": "code",
      "metadata": {
        "id": "DV2X_lmXTDiI"
      },
      "source": [
        "for fi in files:\n",
        "  fin = open(fi, \"rt\")\n",
        "  fout = open('/content/Passo1/'+fi, \"wt\")\n",
        "  for line in fin:\n",
        "\t    fout.write(line.replace(',', ';'))\n",
        "fin.close()\n",
        "fout.close()"
      ],
      "execution_count": 157,
      "outputs": []
    },
    {
      "cell_type": "markdown",
      "metadata": {
        "id": "h6h8jTGeXJxM"
      },
      "source": [
        "###2.2 Fazendo a mudança de (.) para (,)"
      ]
    },
    {
      "cell_type": "code",
      "metadata": {
        "id": "uSTGQHBeTDq1"
      },
      "source": [
        "for fi in files:\n",
        "  fin = open('/content/Passo1/'+fi, \"rt\")\n",
        "  fout = open('/content/Passo2/'+fi, \"wt\")\n",
        "  for line in fin:\n",
        "\t    fout.write(line.replace('.', ','))\n",
        "fin.close()\n",
        "fout.close()"
      ],
      "execution_count": 158,
      "outputs": []
    },
    {
      "cell_type": "markdown",
      "metadata": {
        "id": "Wrzb0JW-ZKtA"
      },
      "source": [
        "###2.3. O grande problema dos arquivos e que a maioria explode o numero de variaveis, para isso, vou acrescentar 7 (;) no final do arquivo para que ele junte de forma correta todas as variaveis"
      ]
    },
    {
      "cell_type": "code",
      "metadata": {
        "id": "j7KOwzqklgh4"
      },
      "source": [
        "primeiraLinha = 0\n",
        "for fi in files:\n",
        "  primeiraLinha = 0\n",
        "  fin = open('/content/Passo2/'+fi, \"rt\")\n",
        "  fout = open('/content/Passo3/'+fi, \"wt\")\n",
        "  for line in fin:\n",
        "    if primeiraLinha == 0:\n",
        "\t    fout.write(line.replace('\\n', ';;;;;;;\\n'))\n",
        "    else:\n",
        "      fout.write(line)\n",
        "    primeiraLinha = primeiraLinha+1\n",
        "fin.close()\n",
        "fout.close()"
      ],
      "execution_count": 159,
      "outputs": []
    },
    {
      "cell_type": "markdown",
      "metadata": {
        "id": "eIOGRXsIZYG0"
      },
      "source": [
        "##3. Feito isso, carregue todos os documentos para podermos criar nosso df pandas unico do ano\n"
      ]
    },
    {
      "cell_type": "markdown",
      "metadata": {
        "id": "Y8Uwc7mlaVuu"
      },
      "source": [
        "> OBS: Não se preocupe com arquivos em branco ou repetidos, com um dataFrame pandas a gnt consegue lidar com isso na parte de pré processamento"
      ]
    },
    {
      "cell_type": "markdown",
      "metadata": {
        "id": "qiXdrVLGagZk"
      },
      "source": [
        "> Parte 1: Agora crie um unico arquivo para todos os anos apenas com as colunas necessárias, caso não tenha a coluna, ele vai pular o df\n",
        "\n",
        "\n",
        "\n"
      ]
    },
    {
      "cell_type": "code",
      "metadata": {
        "id": "ugqYLzYDTD4F"
      },
      "source": [
        "dx = pd.DataFrame(data=None)\n",
        "for fi in files:\n",
        "  try:\n",
        "    df = pd.read_csv('/content/Passo3/'+fi,\n",
        "                   sep=';',\n",
        "                   engine='python',\n",
        "                   usecols=[\n",
        "                            'DATE (YYYY-MM-DDTHH:MI:SSZ)','LATITUDE (degree_north)',\n",
        "                            'LONGITUDE (degree_east)','PSAL (psu)','PRES (decibar)'])\n",
        "    dx = pd.concat([dx,df])\n",
        "  except: \n",
        "    pass"
      ],
      "execution_count": 160,
      "outputs": []
    },
    {
      "cell_type": "markdown",
      "metadata": {
        "id": "rM1i7VbZjwRX"
      },
      "source": [
        "> Parte 2: Veja se ta tudo ok"
      ]
    },
    {
      "cell_type": "code",
      "metadata": {
        "colab": {
          "base_uri": "https://localhost:8080/",
          "height": 419
        },
        "id": "L9q_xBvnjzX9",
        "outputId": "28cce0e4-8895-445c-ad3b-ced59338c66e"
      },
      "source": [
        "dx"
      ],
      "execution_count": 163,
      "outputs": [
        {
          "output_type": "execute_result",
          "data": {
            "text/html": [
              "<div>\n",
              "<style scoped>\n",
              "    .dataframe tbody tr th:only-of-type {\n",
              "        vertical-align: middle;\n",
              "    }\n",
              "\n",
              "    .dataframe tbody tr th {\n",
              "        vertical-align: top;\n",
              "    }\n",
              "\n",
              "    .dataframe thead th {\n",
              "        text-align: right;\n",
              "    }\n",
              "</style>\n",
              "<table border=\"1\" class=\"dataframe\">\n",
              "  <thead>\n",
              "    <tr style=\"text-align: right;\">\n",
              "      <th></th>\n",
              "      <th>DATE (YYYY-MM-DDTHH:MI:SSZ)</th>\n",
              "      <th>LATITUDE (degree_north)</th>\n",
              "      <th>LONGITUDE (degree_east)</th>\n",
              "      <th>PRES (decibar)</th>\n",
              "      <th>PSAL (psu)</th>\n",
              "    </tr>\n",
              "  </thead>\n",
              "  <tbody>\n",
              "    <tr>\n",
              "      <th>0</th>\n",
              "      <td>2006-01-07T02:59:13Z</td>\n",
              "      <td>-12,0400</td>\n",
              "      <td>-26,4920</td>\n",
              "      <td>10</td>\n",
              "      <td>36,736</td>\n",
              "    </tr>\n",
              "    <tr>\n",
              "      <th>1</th>\n",
              "      <td>2006-01-07T02:59:13Z</td>\n",
              "      <td>-12,0400</td>\n",
              "      <td>-26,4920</td>\n",
              "      <td>20</td>\n",
              "      <td>36,728</td>\n",
              "    </tr>\n",
              "    <tr>\n",
              "      <th>2</th>\n",
              "      <td>2006-01-07T02:59:13Z</td>\n",
              "      <td>-12,0400</td>\n",
              "      <td>-26,4920</td>\n",
              "      <td>30</td>\n",
              "      <td>36,732</td>\n",
              "    </tr>\n",
              "    <tr>\n",
              "      <th>3</th>\n",
              "      <td>2006-01-07T02:59:13Z</td>\n",
              "      <td>-12,0400</td>\n",
              "      <td>-26,4920</td>\n",
              "      <td>40</td>\n",
              "      <td>36,73</td>\n",
              "    </tr>\n",
              "    <tr>\n",
              "      <th>4</th>\n",
              "      <td>2006-01-07T02:59:13Z</td>\n",
              "      <td>-12,0400</td>\n",
              "      <td>-26,4920</td>\n",
              "      <td>50</td>\n",
              "      <td>36,836</td>\n",
              "    </tr>\n",
              "    <tr>\n",
              "      <th>...</th>\n",
              "      <td>...</td>\n",
              "      <td>...</td>\n",
              "      <td>...</td>\n",
              "      <td>...</td>\n",
              "      <td>...</td>\n",
              "    </tr>\n",
              "    <tr>\n",
              "      <th>496</th>\n",
              "      <td>2006-06-23T10:53:22Z</td>\n",
              "      <td>39,1260</td>\n",
              "      <td>-29,8210</td>\n",
              "      <td>1329,2</td>\n",
              "      <td>35,097</td>\n",
              "    </tr>\n",
              "    <tr>\n",
              "      <th>497</th>\n",
              "      <td>2006-06-23T10:53:22Z</td>\n",
              "      <td>39,1260</td>\n",
              "      <td>-29,8210</td>\n",
              "      <td>1379,8</td>\n",
              "      <td>35,066</td>\n",
              "    </tr>\n",
              "    <tr>\n",
              "      <th>498</th>\n",
              "      <td>2006-06-23T10:53:22Z</td>\n",
              "      <td>39,1260</td>\n",
              "      <td>-29,8210</td>\n",
              "      <td>1428,2</td>\n",
              "      <td>35,066</td>\n",
              "    </tr>\n",
              "    <tr>\n",
              "      <th>499</th>\n",
              "      <td>2006-06-23T10:53:22Z</td>\n",
              "      <td>39,1260</td>\n",
              "      <td>-29,8210</td>\n",
              "      <td>1479,8</td>\n",
              "      <td>35,063</td>\n",
              "    </tr>\n",
              "    <tr>\n",
              "      <th>500</th>\n",
              "      <td>2006-06-23T10:53:22Z</td>\n",
              "      <td>39,1260</td>\n",
              "      <td>-29,8210</td>\n",
              "      <td>1480,8</td>\n",
              "      <td>35,063</td>\n",
              "    </tr>\n",
              "  </tbody>\n",
              "</table>\n",
              "<p>448656 rows × 5 columns</p>\n",
              "</div>"
            ],
            "text/plain": [
              "    DATE (YYYY-MM-DDTHH:MI:SSZ)  ... PSAL (psu)\n",
              "0          2006-01-07T02:59:13Z  ...     36,736\n",
              "1          2006-01-07T02:59:13Z  ...     36,728\n",
              "2          2006-01-07T02:59:13Z  ...     36,732\n",
              "3          2006-01-07T02:59:13Z  ...      36,73\n",
              "4          2006-01-07T02:59:13Z  ...     36,836\n",
              "..                          ...  ...        ...\n",
              "496        2006-06-23T10:53:22Z  ...     35,097\n",
              "497        2006-06-23T10:53:22Z  ...     35,066\n",
              "498        2006-06-23T10:53:22Z  ...     35,066\n",
              "499        2006-06-23T10:53:22Z  ...     35,063\n",
              "500        2006-06-23T10:53:22Z  ...     35,063\n",
              "\n",
              "[448656 rows x 5 columns]"
            ]
          },
          "metadata": {},
          "execution_count": 163
        }
      ]
    },
    {
      "cell_type": "markdown",
      "metadata": {
        "id": "WegjisTlySIh"
      },
      "source": [
        "> Parte 3: Agora salve o dataFrame"
      ]
    },
    {
      "cell_type": "code",
      "metadata": {
        "id": "o4Q6JIQmTD6l"
      },
      "source": [
        "x = [dx['DATE (YYYY-MM-DDTHH:MI:SSZ)'][0:1]]\n",
        "ano = x[0][0][0:4]\n",
        "dx.to_csv('/content/drive/MyDrive/'+ano+'.csv',sep=';')"
      ],
      "execution_count": 164,
      "outputs": []
    },
    {
      "cell_type": "markdown",
      "metadata": {
        "id": "xuAEm72rfcSG"
      },
      "source": [
        "##4. Por ultimo, limpe as pastas"
      ]
    },
    {
      "cell_type": "code",
      "metadata": {
        "id": "Uhye7CF5fhxg"
      },
      "source": [
        "for fi in files:\n",
        "   subprocess.run(['rm','/content/'+fi])\n",
        "   subprocess.run(['rm','/content/Passo1/'+fi])\n",
        "   subprocess.run(['rm','/content/Passo2/'+fi])\n",
        "   subprocess.run(['rm','/content/Passo3/'+fi])"
      ],
      "execution_count": 153,
      "outputs": []
    }
  ]
}
