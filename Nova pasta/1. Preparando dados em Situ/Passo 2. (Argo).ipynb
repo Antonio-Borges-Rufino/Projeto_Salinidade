{
  "nbformat": 4,
  "nbformat_minor": 0,
  "metadata": {
    "colab": {
      "name": "Passo2.ipynb",
      "provenance": []
    },
    "kernelspec": {
      "name": "python3",
      "display_name": "Python 3"
    },
    "language_info": {
      "name": "python"
    }
  },
  "cells": [
    {
      "cell_type": "markdown",
      "metadata": {
        "id": "8YhlivbDQ_HE"
      },
      "source": [
        "# O output desse processamento deve ser um arquivo com schema pronto e juntando todos os arquivos feitos no passo 1"
      ]
    },
    {
      "cell_type": "markdown",
      "metadata": {
        "id": "m4SJ6AwlRnSH"
      },
      "source": [
        "##1. Importando as bibliotecas"
      ]
    },
    {
      "cell_type": "code",
      "metadata": {
        "id": "Jqy3AwhgRv9K"
      },
      "source": [
        "import subprocess\n",
        "import pandas as pd"
      ],
      "execution_count": null,
      "outputs": []
    },
    {
      "cell_type": "markdown",
      "metadata": {
        "id": "r-h6f5XXRyIK"
      },
      "source": [
        "##2. Extraindo os arquivos gerados no passo 1"
      ]
    },
    {
      "cell_type": "code",
      "metadata": {
        "id": "jxrSyJh8R4S0",
        "colab": {
          "base_uri": "https://localhost:8080/"
        },
        "outputId": "91c2b14b-9007-46c5-9229-44d8bc729782"
      },
      "source": [
        "subprocess.run(['unrar','x','/content/drive/MyDrive/dados.rar'])"
      ],
      "execution_count": null,
      "outputs": [
        {
          "output_type": "execute_result",
          "data": {
            "text/plain": [
              "CompletedProcess(args=['unrar', 'x', '/content/drive/MyDrive/dados.rar'], returncode=0)"
            ]
          },
          "metadata": {},
          "execution_count": 2
        }
      ]
    },
    {
      "cell_type": "markdown",
      "metadata": {
        "id": "chyaTX9YrBaw"
      },
      "source": [
        "##3. Criando pastas de apoio"
      ]
    },
    {
      "cell_type": "code",
      "metadata": {
        "colab": {
          "base_uri": "https://localhost:8080/"
        },
        "id": "EksFyRf_ozZt",
        "outputId": "10ea821d-ef80-4059-d23d-980c61e7b629"
      },
      "source": [
        "subprocess.run(['mkdir','/content/Passo1'])\n",
        "subprocess.run(['mkdir','/content/Passo2'])\n",
        "subprocess.run(['mkdir','/content/Passo3'])\n",
        "subprocess.run(['mkdir','/content/Passo4'])"
      ],
      "execution_count": null,
      "outputs": [
        {
          "output_type": "execute_result",
          "data": {
            "text/plain": [
              "CompletedProcess(args=['mkdir', '/content/Passo4'], returncode=0)"
            ]
          },
          "metadata": {},
          "execution_count": 3
        }
      ]
    },
    {
      "cell_type": "markdown",
      "metadata": {
        "id": "MiH7cpbffCkp"
      },
      "source": [
        "##4. Criando uma lista com o nome dos arquivos"
      ]
    },
    {
      "cell_type": "code",
      "metadata": {
        "colab": {
          "base_uri": "https://localhost:8080/",
          "height": 35
        },
        "id": "HIqALFwKfH3h",
        "outputId": "9ed6e2fb-cfbf-4ab2-8b09-6e0145f24151"
      },
      "source": [
        "files = subprocess.getoutput(['ls','/content/'])\n",
        "files = files.split()\n",
        "files.pop()\n",
        "files.pop()\n",
        "files.pop()\n",
        "files.pop()\n",
        "files.pop()\n",
        "files.pop()"
      ],
      "execution_count": null,
      "outputs": [
        {
          "output_type": "execute_result",
          "data": {
            "application/vnd.google.colaboratory.intrinsic+json": {
              "type": "string"
            },
            "text/plain": [
              "'drive'"
            ]
          },
          "metadata": {},
          "execution_count": 4
        }
      ]
    },
    {
      "cell_type": "markdown",
      "metadata": {
        "id": "95B68ZzOrH6Y"
      },
      "source": [
        "##5. Transformando os dados numéricos"
      ]
    },
    {
      "cell_type": "code",
      "metadata": {
        "id": "0vUKUurgpMTa"
      },
      "source": [
        "for fi in files:\n",
        "  fin = open(fi, \"rt\")\n",
        "  fout = open('/content/Passo1/'+fi, \"wt\")\n",
        "  for line in fin:\n",
        "\t    fout.write(line.replace(',', '.'))\n",
        "fin.close()\n",
        "fout.close()"
      ],
      "execution_count": null,
      "outputs": []
    },
    {
      "cell_type": "code",
      "metadata": {
        "id": "Ek_e8oGlpTsP"
      },
      "source": [
        "for fi in files:\n",
        "  fin = open('/content/Passo1/'+fi, \"rt\")\n",
        "  fout = open('/content/Passo2/'+fi, \"wt\")\n",
        "  for line in fin:\n",
        "\t    fout.write(line.replace(';', ','))\n",
        "fin.close()\n",
        "fout.close()"
      ],
      "execution_count": null,
      "outputs": []
    },
    {
      "cell_type": "markdown",
      "metadata": {
        "id": "7eWwWIqitEvI"
      },
      "source": [
        "##6. Cria novos arquivos com pressão menor que 5"
      ]
    },
    {
      "cell_type": "code",
      "metadata": {
        "colab": {
          "base_uri": "https://localhost:8080/"
        },
        "id": "fTR4CefMv7O-",
        "outputId": "1c66c090-9700-4328-d1c7-f6092fbacf1a"
      },
      "source": [
        "for fi in files:\n",
        "  df = pd.read_csv('/content/Passo2/'+fi)\n",
        "  df2 = df.loc[df['PRES (decibar)']<5]\n",
        "  df2.to_csv('/content/Passo3/'+fi)"
      ],
      "execution_count": null,
      "outputs": [
        {
          "output_type": "stream",
          "name": "stderr",
          "text": [
            "/usr/local/lib/python3.7/dist-packages/IPython/core/interactiveshell.py:2718: DtypeWarning: Columns (0) have mixed types.Specify dtype option on import or set low_memory=False.\n",
            "  interactivity=interactivity, compiler=compiler, result=result)\n"
          ]
        }
      ]
    },
    {
      "cell_type": "markdown",
      "metadata": {
        "id": "_UmgWbEPDhnb"
      },
      "source": [
        "##7. Cria novos arquivos preparados como variaveis"
      ]
    },
    {
      "cell_type": "code",
      "metadata": {
        "id": "B1ty3m8vA39F"
      },
      "source": [
        "for fi in files:  \n",
        "  df = pd.read_csv('/content/Passo3/'+fi,parse_dates=[2])\n",
        "  df['ANO'] = df['DATE (YYYY-MM-DDTHH:MI:SSZ)'].dt.year\n",
        "  df['MES'] = df['DATE (YYYY-MM-DDTHH:MI:SSZ)'].dt.month\n",
        "  df['DIA'] = df['DATE (YYYY-MM-DDTHH:MI:SSZ)'].dt.day\n",
        "  df['LATITUDE'] = df['LATITUDE (degree_north)']\n",
        "  df['LONGITUDE'] = df['LONGITUDE (degree_east)']\n",
        "  df['SALINIDADE'] = df['PSAL (psu)']\n",
        "  df['PRESS'] = df['PRES (decibar)']\n",
        "  dx=df[['ANO','MES','DIA','LATITUDE','LONGITUDE','SALINIDADE','PRESS']]\n",
        "  dx.to_csv('/content/Passo4/'+fi)"
      ],
      "execution_count": null,
      "outputs": []
    },
    {
      "cell_type": "markdown",
      "metadata": {
        "id": "v_X5nb3-Dois"
      },
      "source": [
        "##8. Criando um unico ponto de dados sem dados nulos"
      ]
    },
    {
      "cell_type": "code",
      "metadata": {
        "id": "Cdx7wBlODowP"
      },
      "source": [
        "dfFinal = pd.DataFrame(data=None)\n",
        "for fi in files:\n",
        "  df = pd.read_csv('/content/Passo4/'+fi) \n",
        "  df.dropna(inplace=True)\n",
        "  df.drop_duplicates(inplace=True)\n",
        "  dfFinal = pd.concat([dfFinal,df])"
      ],
      "execution_count": null,
      "outputs": []
    },
    {
      "cell_type": "markdown",
      "metadata": {
        "id": "JI9VK3WdLyws"
      },
      "source": [
        "##9. Salvando o df "
      ]
    },
    {
      "cell_type": "code",
      "metadata": {
        "id": "pnvUFnpHI6kN"
      },
      "source": [
        "dfFinal = dfFinal[['ANO','MES','DIA','LATITUDE','LONGITUDE','SALINIDADE','PRESS']] \n",
        "dfFinal.to_csv('/content/drive/MyDrive/dados.csv')"
      ],
      "execution_count": null,
      "outputs": []
    }
  ]
}