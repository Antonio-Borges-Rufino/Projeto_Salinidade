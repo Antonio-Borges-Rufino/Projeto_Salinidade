{
  "nbformat": 4,
  "nbformat_minor": 0,
  "metadata": {
    "colab": {
      "name": "Passo 2. (Bottles).ipynb",
      "provenance": []
    },
    "kernelspec": {
      "name": "python3",
      "display_name": "Python 3"
    },
    "language_info": {
      "name": "python"
    }
  },
  "cells": [
    {
      "cell_type": "markdown",
      "metadata": {
        "id": "8YhlivbDQ_HE"
      },
      "source": [
        "# O output desse processamento deve ser um arquivo com schema pronto e juntando todos os arquivos feitos no passo 1"
      ]
    },
    {
      "cell_type": "markdown",
      "metadata": {
        "id": "m4SJ6AwlRnSH"
      },
      "source": [
        "##1. Importando as bibliotecas"
      ]
    },
    {
      "cell_type": "code",
      "metadata": {
        "id": "Jqy3AwhgRv9K"
      },
      "source": [
        "import subprocess\n",
        "import pandas as pd"
      ],
      "execution_count": 2,
      "outputs": []
    },
    {
      "cell_type": "markdown",
      "metadata": {
        "id": "r-h6f5XXRyIK"
      },
      "source": [
        "##2. Extraindo os arquivos gerados no passo 1"
      ]
    },
    {
      "cell_type": "code",
      "metadata": {
        "id": "jxrSyJh8R4S0",
        "colab": {
          "base_uri": "https://localhost:8080/"
        },
        "outputId": "70c50ed4-e0fd-4ab8-f34c-645d0e8713e7"
      },
      "source": [
        "subprocess.run(['unrar','x','/content/drive/MyDrive/bottles.rar'])"
      ],
      "execution_count": 3,
      "outputs": [
        {
          "output_type": "execute_result",
          "data": {
            "text/plain": [
              "CompletedProcess(args=['unrar', 'x', '/content/drive/MyDrive/bottles.rar'], returncode=0)"
            ]
          },
          "metadata": {},
          "execution_count": 3
        }
      ]
    },
    {
      "cell_type": "markdown",
      "metadata": {
        "id": "chyaTX9YrBaw"
      },
      "source": [
        "##3. Criando pastas de apoio"
      ]
    },
    {
      "cell_type": "code",
      "metadata": {
        "colab": {
          "base_uri": "https://localhost:8080/"
        },
        "id": "EksFyRf_ozZt",
        "outputId": "1dcad473-6668-4af8-d1fb-c7dac28602c2"
      },
      "source": [
        "subprocess.run(['mkdir','/content/Passo1'])\n",
        "subprocess.run(['mkdir','/content/Passo2'])"
      ],
      "execution_count": 8,
      "outputs": [
        {
          "output_type": "execute_result",
          "data": {
            "text/plain": [
              "CompletedProcess(args=['mkdir', '/content/Passo4'], returncode=0)"
            ]
          },
          "metadata": {},
          "execution_count": 8
        }
      ]
    },
    {
      "cell_type": "markdown",
      "metadata": {
        "id": "MiH7cpbffCkp"
      },
      "source": [
        "##4. Criando uma lista com o nome dos arquivos"
      ]
    },
    {
      "cell_type": "code",
      "metadata": {
        "id": "HIqALFwKfH3h"
      },
      "source": [
        "files = subprocess.getoutput(['ls','/content/'])\n",
        "files = files.split()\n",
        "files.remove('Passo1')\n",
        "files.remove('Passo2')\n",
        "files.remove('sample_data')\n",
        "files.remove('drive')\n"
      ],
      "execution_count": 9,
      "outputs": []
    },
    {
      "cell_type": "markdown",
      "metadata": {
        "id": "95B68ZzOrH6Y"
      },
      "source": [
        "##5. Transformando os dados numéricos"
      ]
    },
    {
      "cell_type": "code",
      "metadata": {
        "id": "0vUKUurgpMTa"
      },
      "source": [
        "for fi in files:\n",
        "  fin = open(fi, \"rt\")\n",
        "  fout = open('/content/Passo1/'+fi, \"wt\")\n",
        "  for line in fin:\n",
        "\t    fout.write(line.replace(',', '.'))\n",
        "fin.close()\n",
        "fout.close()"
      ],
      "execution_count": 6,
      "outputs": []
    },
    {
      "cell_type": "code",
      "metadata": {
        "id": "Ek_e8oGlpTsP"
      },
      "source": [
        "for fi in files:\n",
        "  fin = open('/content/Passo1/'+fi, \"rt\")\n",
        "  fout = open('/content/Passo2/'+fi, \"wt\")\n",
        "  for line in fin:\n",
        "\t    fout.write(line.replace(';', ','))\n",
        "fin.close()\n",
        "fout.close()"
      ],
      "execution_count": 7,
      "outputs": []
    },
    {
      "cell_type": "markdown",
      "metadata": {
        "id": "_UmgWbEPDhnb"
      },
      "source": [
        "##6. Cria novos arquivos preparados como variaveis, retirando valores nulos ou errados de datas que vieram ruins e salvando direto no drive"
      ]
    },
    {
      "cell_type": "code",
      "metadata": {
        "id": "B1ty3m8vA39F"
      },
      "source": [
        "for fi in files:  \n",
        "  df = pd.read_csv('/content/Passo2/'+fi,parse_dates=[2])\n",
        "  df['Data'] = pd.to_datetime(df['DATE (yyyy-mm-ddThh:mi:ssZ)'],errors='coerce')\n",
        "  df.dropna(inplace=True)\n",
        "  df.drop_duplicates(inplace=True)\n",
        "  df['ANO'] = df['Data'].dt.year\n",
        "  df['MES'] = df['Data'].dt.month\n",
        "  df['DIA'] = df['Data'].dt.day\n",
        "  df['LATITUDE'] = df['LATITUDE (degree_north)']\n",
        "  df['LONGITUDE'] = df['LONGITUDE (degree_east)']\n",
        "  df['SALINIDADE'] = df['PSAL LEVEL1 (psu)']\n",
        "  df['TIPO'] = 'BOTTLES'\n",
        "  dx=df[['TIPO','ANO','MES','DIA','LATITUDE','LONGITUDE','SALINIDADE']]\n",
        "  dx.to_csv('/content/drive/MyDrive/dados_bottles.csv')"
      ],
      "execution_count": 126,
      "outputs": []
    },
    {
      "cell_type": "code",
      "metadata": {
        "colab": {
          "base_uri": "https://localhost:8080/",
          "height": 419
        },
        "id": "Xo5OG02Ksn9_",
        "outputId": "1de51cce-7822-42ac-c948-d016a65ed2be"
      },
      "source": [
        "df = pd.read_csv('/content/drive/MyDrive/dados_bottles.csv')\n",
        "df"
      ],
      "execution_count": 132,
      "outputs": [
        {
          "output_type": "execute_result",
          "data": {
            "text/html": [
              "<div>\n",
              "<style scoped>\n",
              "    .dataframe tbody tr th:only-of-type {\n",
              "        vertical-align: middle;\n",
              "    }\n",
              "\n",
              "    .dataframe tbody tr th {\n",
              "        vertical-align: top;\n",
              "    }\n",
              "\n",
              "    .dataframe thead th {\n",
              "        text-align: right;\n",
              "    }\n",
              "</style>\n",
              "<table border=\"1\" class=\"dataframe\">\n",
              "  <thead>\n",
              "    <tr style=\"text-align: right;\">\n",
              "      <th></th>\n",
              "      <th>Unnamed: 0</th>\n",
              "      <th>TIPO</th>\n",
              "      <th>ANO</th>\n",
              "      <th>MES</th>\n",
              "      <th>DIA</th>\n",
              "      <th>LATITUDE</th>\n",
              "      <th>LONGITUDE</th>\n",
              "      <th>SALINIDADE</th>\n",
              "    </tr>\n",
              "  </thead>\n",
              "  <tbody>\n",
              "    <tr>\n",
              "      <th>0</th>\n",
              "      <td>191</td>\n",
              "      <td>BOTTLES</td>\n",
              "      <td>2008</td>\n",
              "      <td>8</td>\n",
              "      <td>19</td>\n",
              "      <td>14.9527</td>\n",
              "      <td>-76.8475</td>\n",
              "      <td>36.492</td>\n",
              "    </tr>\n",
              "    <tr>\n",
              "      <th>1</th>\n",
              "      <td>192</td>\n",
              "      <td>BOTTLES</td>\n",
              "      <td>2008</td>\n",
              "      <td>8</td>\n",
              "      <td>19</td>\n",
              "      <td>14.9775</td>\n",
              "      <td>-76.8336</td>\n",
              "      <td>36.137</td>\n",
              "    </tr>\n",
              "    <tr>\n",
              "      <th>2</th>\n",
              "      <td>193</td>\n",
              "      <td>BOTTLES</td>\n",
              "      <td>2008</td>\n",
              "      <td>8</td>\n",
              "      <td>19</td>\n",
              "      <td>15.0022</td>\n",
              "      <td>-76.8200</td>\n",
              "      <td>36.145</td>\n",
              "    </tr>\n",
              "    <tr>\n",
              "      <th>3</th>\n",
              "      <td>194</td>\n",
              "      <td>BOTTLES</td>\n",
              "      <td>2008</td>\n",
              "      <td>8</td>\n",
              "      <td>19</td>\n",
              "      <td>15.0270</td>\n",
              "      <td>-76.8062</td>\n",
              "      <td>36.071</td>\n",
              "    </tr>\n",
              "    <tr>\n",
              "      <th>4</th>\n",
              "      <td>195</td>\n",
              "      <td>BOTTLES</td>\n",
              "      <td>2008</td>\n",
              "      <td>8</td>\n",
              "      <td>19</td>\n",
              "      <td>15.0517</td>\n",
              "      <td>-76.7923</td>\n",
              "      <td>36.158</td>\n",
              "    </tr>\n",
              "    <tr>\n",
              "      <th>...</th>\n",
              "      <td>...</td>\n",
              "      <td>...</td>\n",
              "      <td>...</td>\n",
              "      <td>...</td>\n",
              "      <td>...</td>\n",
              "      <td>...</td>\n",
              "      <td>...</td>\n",
              "      <td>...</td>\n",
              "    </tr>\n",
              "    <tr>\n",
              "      <th>1343295</th>\n",
              "      <td>1668657</td>\n",
              "      <td>BOTTLES</td>\n",
              "      <td>2004</td>\n",
              "      <td>8</td>\n",
              "      <td>6</td>\n",
              "      <td>39.8800</td>\n",
              "      <td>-11.1900</td>\n",
              "      <td>36.039</td>\n",
              "    </tr>\n",
              "    <tr>\n",
              "      <th>1343296</th>\n",
              "      <td>1668658</td>\n",
              "      <td>BOTTLES</td>\n",
              "      <td>2004</td>\n",
              "      <td>8</td>\n",
              "      <td>6</td>\n",
              "      <td>39.9000</td>\n",
              "      <td>-11.1800</td>\n",
              "      <td>36.014</td>\n",
              "    </tr>\n",
              "    <tr>\n",
              "      <th>1343297</th>\n",
              "      <td>1668659</td>\n",
              "      <td>BOTTLES</td>\n",
              "      <td>2004</td>\n",
              "      <td>8</td>\n",
              "      <td>6</td>\n",
              "      <td>39.9300</td>\n",
              "      <td>-11.1700</td>\n",
              "      <td>36.006</td>\n",
              "    </tr>\n",
              "    <tr>\n",
              "      <th>1343298</th>\n",
              "      <td>1668660</td>\n",
              "      <td>BOTTLES</td>\n",
              "      <td>2004</td>\n",
              "      <td>8</td>\n",
              "      <td>6</td>\n",
              "      <td>39.9600</td>\n",
              "      <td>-11.1600</td>\n",
              "      <td>35.987</td>\n",
              "    </tr>\n",
              "    <tr>\n",
              "      <th>1343299</th>\n",
              "      <td>1668661</td>\n",
              "      <td>BOTTLES</td>\n",
              "      <td>2004</td>\n",
              "      <td>8</td>\n",
              "      <td>6</td>\n",
              "      <td>39.9800</td>\n",
              "      <td>-11.1500</td>\n",
              "      <td>35.972</td>\n",
              "    </tr>\n",
              "  </tbody>\n",
              "</table>\n",
              "<p>1343300 rows × 8 columns</p>\n",
              "</div>"
            ],
            "text/plain": [
              "         Unnamed: 0     TIPO   ANO  MES  DIA  LATITUDE  LONGITUDE  SALINIDADE\n",
              "0               191  BOTTLES  2008    8   19   14.9527   -76.8475      36.492\n",
              "1               192  BOTTLES  2008    8   19   14.9775   -76.8336      36.137\n",
              "2               193  BOTTLES  2008    8   19   15.0022   -76.8200      36.145\n",
              "3               194  BOTTLES  2008    8   19   15.0270   -76.8062      36.071\n",
              "4               195  BOTTLES  2008    8   19   15.0517   -76.7923      36.158\n",
              "...             ...      ...   ...  ...  ...       ...        ...         ...\n",
              "1343295     1668657  BOTTLES  2004    8    6   39.8800   -11.1900      36.039\n",
              "1343296     1668658  BOTTLES  2004    8    6   39.9000   -11.1800      36.014\n",
              "1343297     1668659  BOTTLES  2004    8    6   39.9300   -11.1700      36.006\n",
              "1343298     1668660  BOTTLES  2004    8    6   39.9600   -11.1600      35.987\n",
              "1343299     1668661  BOTTLES  2004    8    6   39.9800   -11.1500      35.972\n",
              "\n",
              "[1343300 rows x 8 columns]"
            ]
          },
          "metadata": {},
          "execution_count": 132
        }
      ]
    }
  ]
}