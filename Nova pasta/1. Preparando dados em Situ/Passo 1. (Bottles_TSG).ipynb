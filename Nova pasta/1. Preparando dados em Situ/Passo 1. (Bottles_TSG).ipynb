{
  "nbformat": 4,
  "nbformat_minor": 0,
  "metadata": {
    "colab": {
      "name": "Passo 1. (Bottles_TSG).ipynb",
      "provenance": [],
      "collapsed_sections": []
    },
    "kernelspec": {
      "name": "python3",
      "display_name": "Python 3"
    },
    "language_info": {
      "name": "python"
    }
  },
  "cells": [
    {
      "cell_type": "markdown",
      "metadata": {
        "id": "q1TytPZSKIOP"
      },
      "source": [
        "# Alguns arquivos de salinidade em situ vieram conrompidos, para não perder dados, aqui está o processo que estou fazendo para ajeitar o aquivo"
      ]
    },
    {
      "cell_type": "markdown",
      "metadata": {
        "id": "AoZJa1j5KYHW"
      },
      "source": [
        "##1. Importando bibliotecas necessárias"
      ]
    },
    {
      "cell_type": "code",
      "metadata": {
        "id": "wKtAV0TO749l"
      },
      "source": [
        "import subprocess\n",
        "import netCDF4\n",
        "import pandas as pd"
      ],
      "execution_count": 2,
      "outputs": []
    },
    {
      "cell_type": "markdown",
      "metadata": {
        "id": "8BEtAvW9N7hn"
      },
      "source": [
        "###1.1 Crie as pastas de apoio"
      ]
    },
    {
      "cell_type": "code",
      "metadata": {
        "colab": {
          "base_uri": "https://localhost:8080/"
        },
        "id": "DQg0xmY9NpVy",
        "outputId": "7fa9072c-868b-4f13-8ae3-86af839bfdbd"
      },
      "source": [
        "subprocess.run(['mkdir','/content/Passo1'])\n",
        "subprocess.run(['mkdir','/content/Passo2'])\n",
        "subprocess.run(['mkdir','/content/Passo3'])"
      ],
      "execution_count": 3,
      "outputs": [
        {
          "output_type": "execute_result",
          "data": {
            "text/plain": [
              "CompletedProcess(args=['mkdir', '/content/Passo3'], returncode=0)"
            ]
          },
          "metadata": {},
          "execution_count": 3
        }
      ]
    },
    {
      "cell_type": "markdown",
      "metadata": {
        "id": "Tbm5DOCn43s0"
      },
      "source": [
        "###1.2 Extrair o arquivo comprimido do drive para o colab\n"
      ]
    },
    {
      "cell_type": "code",
      "metadata": {
        "colab": {
          "base_uri": "https://localhost:8080/"
        },
        "id": "-RomGx2tAozG",
        "outputId": "bd650ede-85ca-4c98-b04f-b12701a33cd5"
      },
      "source": [
        "subprocess.run(['unrar','x','/content/drive/MyDrive/tsg_2003-2010.rar'])"
      ],
      "execution_count": 16,
      "outputs": [
        {
          "output_type": "execute_result",
          "data": {
            "text/plain": [
              "CompletedProcess(args=['unrar', 'x', '/content/drive/MyDrive/tsg_2003-2010.rar'], returncode=0)"
            ]
          },
          "metadata": {},
          "execution_count": 16
        }
      ]
    },
    {
      "cell_type": "markdown",
      "metadata": {
        "id": "l6_Hv2xrR0dn"
      },
      "source": [
        "##2. Primeiro vou converter os csv par arquivos que podem ser lidos no excel, trocando a (,) por (;) e o (.) por (,)"
      ]
    },
    {
      "cell_type": "markdown",
      "metadata": {
        "id": "V4sXYr0HKc_l"
      },
      "source": [
        "###2.1 Resgantando todos os arquivos e os tranformando em um array de nome de arquivos"
      ]
    },
    {
      "cell_type": "code",
      "metadata": {
        "id": "iucsn5QN7_Q6"
      },
      "source": [
        "files = subprocess.getoutput(['ls','/content/'])\n",
        "files = files.split()\n",
        "files.remove('drive')\n",
        "files.remove('Passo1')\n",
        "files.remove('Passo2')\n",
        "files.remove('Passo3')\n",
        "files.remove('sample_data')"
      ],
      "execution_count": 22,
      "outputs": []
    },
    {
      "cell_type": "markdown",
      "metadata": {
        "id": "CCfVDYBFTFiy"
      },
      "source": [
        "###2.2 Fazendo a mudança de (,) para (;)"
      ]
    },
    {
      "cell_type": "code",
      "metadata": {
        "id": "DV2X_lmXTDiI"
      },
      "source": [
        "for fi in files:\n",
        "  fin = open(fi, \"rt\")\n",
        "  fout = open('/content/Passo1/'+fi, \"wt\")\n",
        "  for line in fin:\n",
        "\t    fout.write(line.replace(',', ';'))\n",
        "fin.close()\n",
        "fout.close()"
      ],
      "execution_count": 23,
      "outputs": []
    },
    {
      "cell_type": "markdown",
      "metadata": {
        "id": "h6h8jTGeXJxM"
      },
      "source": [
        "###2.2 Fazendo a mudança de (.) para (,)"
      ]
    },
    {
      "cell_type": "code",
      "metadata": {
        "id": "uSTGQHBeTDq1"
      },
      "source": [
        "for fi in files:\n",
        "  fin = open('/content/Passo1/'+fi, \"rt\")\n",
        "  fout = open('/content/Passo2/'+fi, \"wt\")\n",
        "  for line in fin:\n",
        "\t    fout.write(line.replace('.', ','))\n",
        "fin.close()\n",
        "fout.close()"
      ],
      "execution_count": 24,
      "outputs": []
    },
    {
      "cell_type": "markdown",
      "metadata": {
        "id": "Wrzb0JW-ZKtA"
      },
      "source": [
        "###2.3. O grande problema dos arquivos e que a maioria explode o numero de variaveis, para isso, vou acrescentar 7 (;) no final do arquivo para que ele junte de forma correta todas as variaveis"
      ]
    },
    {
      "cell_type": "code",
      "metadata": {
        "id": "j7KOwzqklgh4"
      },
      "source": [
        "primeiraLinha = 0\n",
        "for fi in files:\n",
        "  primeiraLinha = 0\n",
        "  fin = open('/content/Passo2/'+fi, \"rt\")\n",
        "  fout = open('/content/Passo3/'+fi, \"wt\")\n",
        "  for line in fin:\n",
        "    if primeiraLinha == 0:\n",
        "\t    fout.write(line.replace('\\n', ';;;;;;;\\n'))\n",
        "    else:\n",
        "      fout.write(line)\n",
        "    primeiraLinha = primeiraLinha+1\n",
        "fin.close()\n",
        "fout.close()"
      ],
      "execution_count": 25,
      "outputs": []
    },
    {
      "cell_type": "markdown",
      "metadata": {
        "id": "eIOGRXsIZYG0"
      },
      "source": [
        "##3. Feito isso, carregue todos os documentos para podermos criar nosso df pandas unico do ano\n"
      ]
    },
    {
      "cell_type": "markdown",
      "metadata": {
        "id": "Y8Uwc7mlaVuu"
      },
      "source": [
        "> OBS: Não se preocupe com arquivos em branco ou repetidos, com um dataFrame pandas a gnt consegue lidar com isso na parte de pré processamento"
      ]
    },
    {
      "cell_type": "markdown",
      "metadata": {
        "id": "qiXdrVLGagZk"
      },
      "source": [
        "> Parte 1: Agora crie um unico arquivo para todos os anos apenas com as colunas necessárias, caso não tenha a coluna, ele vai pular o df\n",
        "\n",
        "\n",
        "\n"
      ]
    },
    {
      "cell_type": "code",
      "metadata": {
        "id": "ugqYLzYDTD4F"
      },
      "source": [
        "dx = pd.DataFrame(data=None)\n",
        "for fi in files:\n",
        "  try:\n",
        "    df = pd.read_csv('/content/Passo3/'+fi,\n",
        "                   sep=';',\n",
        "                   engine='python',\n",
        "                   usecols=[\n",
        "                            'DATE (yyyy-mm-ddThh:mi:ssZ)','LATITUDE (degree_north)',\n",
        "                            'LONGITUDE (degree_east)','PSAL LEVEL1 (psu)'])\n",
        "    dx = pd.concat([dx,df])\n",
        "  except: \n",
        "    pass"
      ],
      "execution_count": null,
      "outputs": []
    },
    {
      "cell_type": "markdown",
      "metadata": {
        "id": "rM1i7VbZjwRX"
      },
      "source": [
        "> Parte 2: Veja se ta tudo ok"
      ]
    },
    {
      "cell_type": "code",
      "metadata": {
        "colab": {
          "base_uri": "https://localhost:8080/",
          "height": 419
        },
        "id": "L9q_xBvnjzX9",
        "outputId": "1264aad1-83eb-4e9c-c487-f71087f83c54"
      },
      "source": [
        "dx"
      ],
      "execution_count": 13,
      "outputs": [
        {
          "output_type": "execute_result",
          "data": {
            "text/html": [
              "<div>\n",
              "<style scoped>\n",
              "    .dataframe tbody tr th:only-of-type {\n",
              "        vertical-align: middle;\n",
              "    }\n",
              "\n",
              "    .dataframe tbody tr th {\n",
              "        vertical-align: top;\n",
              "    }\n",
              "\n",
              "    .dataframe thead th {\n",
              "        text-align: right;\n",
              "    }\n",
              "</style>\n",
              "<table border=\"1\" class=\"dataframe\">\n",
              "  <thead>\n",
              "    <tr style=\"text-align: right;\">\n",
              "      <th></th>\n",
              "      <th>DATE (yyyy-mm-ddThh:mi:ssZ)</th>\n",
              "      <th>LATITUDE (degree_north)</th>\n",
              "      <th>LONGITUDE (degree_east)</th>\n",
              "      <th>PSAL LEVEL1 (psu)</th>\n",
              "    </tr>\n",
              "  </thead>\n",
              "  <tbody>\n",
              "    <tr>\n",
              "      <th>0</th>\n",
              "      <td>2008-08-19T00:00:00Z</td>\n",
              "      <td>10,2482</td>\n",
              "      <td>-79,4385</td>\n",
              "      <td>NaN</td>\n",
              "    </tr>\n",
              "    <tr>\n",
              "      <th>1</th>\n",
              "      <td>2008-08-19T00:05:00Z</td>\n",
              "      <td>10,2752</td>\n",
              "      <td>-79,4232</td>\n",
              "      <td>NaN</td>\n",
              "    </tr>\n",
              "    <tr>\n",
              "      <th>2</th>\n",
              "      <td>2008-08-19T00:10:00Z</td>\n",
              "      <td>10,3022</td>\n",
              "      <td>-79,4083</td>\n",
              "      <td>NaN</td>\n",
              "    </tr>\n",
              "    <tr>\n",
              "      <th>3</th>\n",
              "      <td>2008-08-19T00:15:00Z</td>\n",
              "      <td>10,3295</td>\n",
              "      <td>-79,3938</td>\n",
              "      <td>NaN</td>\n",
              "    </tr>\n",
              "    <tr>\n",
              "      <th>4</th>\n",
              "      <td>2008-08-19T00:20:00Z</td>\n",
              "      <td>10,3567</td>\n",
              "      <td>-79,3795</td>\n",
              "      <td>NaN</td>\n",
              "    </tr>\n",
              "    <tr>\n",
              "      <th>...</th>\n",
              "      <td>...</td>\n",
              "      <td>...</td>\n",
              "      <td>...</td>\n",
              "      <td>...</td>\n",
              "    </tr>\n",
              "    <tr>\n",
              "      <th>5379</th>\n",
              "      <td>2004-08-06T13:00:00Z</td>\n",
              "      <td>39,8800</td>\n",
              "      <td>-11,1900</td>\n",
              "      <td>36,039</td>\n",
              "    </tr>\n",
              "    <tr>\n",
              "      <th>5380</th>\n",
              "      <td>2004-08-06T13:05:00Z</td>\n",
              "      <td>39,9000</td>\n",
              "      <td>-11,1800</td>\n",
              "      <td>36,014</td>\n",
              "    </tr>\n",
              "    <tr>\n",
              "      <th>5381</th>\n",
              "      <td>2004-08-06T13:10:00Z</td>\n",
              "      <td>39,9300</td>\n",
              "      <td>-11,1700</td>\n",
              "      <td>36,006</td>\n",
              "    </tr>\n",
              "    <tr>\n",
              "      <th>5382</th>\n",
              "      <td>2004-08-06T13:15:00Z</td>\n",
              "      <td>39,9600</td>\n",
              "      <td>-11,1600</td>\n",
              "      <td>35,987</td>\n",
              "    </tr>\n",
              "    <tr>\n",
              "      <th>5383</th>\n",
              "      <td>2004-08-06T13:20:00Z</td>\n",
              "      <td>39,9800</td>\n",
              "      <td>-11,1500</td>\n",
              "      <td>35,972</td>\n",
              "    </tr>\n",
              "  </tbody>\n",
              "</table>\n",
              "<p>1668662 rows × 4 columns</p>\n",
              "</div>"
            ],
            "text/plain": [
              "     DATE (yyyy-mm-ddThh:mi:ssZ)  ... PSAL LEVEL1 (psu)\n",
              "0           2008-08-19T00:00:00Z  ...               NaN\n",
              "1           2008-08-19T00:05:00Z  ...               NaN\n",
              "2           2008-08-19T00:10:00Z  ...               NaN\n",
              "3           2008-08-19T00:15:00Z  ...               NaN\n",
              "4           2008-08-19T00:20:00Z  ...               NaN\n",
              "...                          ...  ...               ...\n",
              "5379        2004-08-06T13:00:00Z  ...            36,039\n",
              "5380        2004-08-06T13:05:00Z  ...            36,014\n",
              "5381        2004-08-06T13:10:00Z  ...            36,006\n",
              "5382        2004-08-06T13:15:00Z  ...            35,987\n",
              "5383        2004-08-06T13:20:00Z  ...            35,972\n",
              "\n",
              "[1668662 rows x 4 columns]"
            ]
          },
          "metadata": {},
          "execution_count": 13
        }
      ]
    },
    {
      "cell_type": "markdown",
      "metadata": {
        "id": "WegjisTlySIh"
      },
      "source": [
        "> Parte 3: Agora salve o dataFrame"
      ]
    },
    {
      "cell_type": "markdown",
      "metadata": {
        "id": "w4c4YbwEWEhp"
      },
      "source": [
        ">> Para bottles"
      ]
    },
    {
      "cell_type": "code",
      "metadata": {
        "id": "o4Q6JIQmTD6l"
      },
      "source": [
        "dx.to_csv('/content/drive/MyDrive/bottles.csv',sep=';')"
      ],
      "execution_count": 14,
      "outputs": []
    },
    {
      "cell_type": "markdown",
      "metadata": {
        "id": "eQLbf-t8WI4w"
      },
      "source": [
        ">> Para tsg"
      ]
    },
    {
      "cell_type": "code",
      "metadata": {
        "id": "nXT44pm7WLEI"
      },
      "source": [
        "dx.to_csv('/content/drive/MyDrive/Tsg_xxx.csv',sep=';')"
      ],
      "execution_count": null,
      "outputs": []
    },
    {
      "cell_type": "markdown",
      "metadata": {
        "id": "xuAEm72rfcSG"
      },
      "source": [
        "##4. Por ultimo, limpe as pastas"
      ]
    },
    {
      "cell_type": "code",
      "metadata": {
        "id": "Uhye7CF5fhxg"
      },
      "source": [
        "for fi in files:\n",
        "   subprocess.run(['rm','/content/'+fi])\n",
        "   subprocess.run(['rm','/content/Passo1/'+fi])\n",
        "   subprocess.run(['rm','/content/Passo2/'+fi])\n",
        "   subprocess.run(['rm','/content/Passo3/'+fi])"
      ],
      "execution_count": 15,
      "outputs": []
    }
  ]
}