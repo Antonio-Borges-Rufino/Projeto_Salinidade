{
  "nbformat": 4,
  "nbformat_minor": 0,
  "metadata": {
    "colab": {
      "name": "Passo 2. (tsg).ipynb",
      "provenance": []
    },
    "kernelspec": {
      "name": "python3",
      "display_name": "Python 3"
    },
    "language_info": {
      "name": "python"
    }
  },
  "cells": [
    {
      "cell_type": "markdown",
      "metadata": {
        "id": "8YhlivbDQ_HE"
      },
      "source": [
        "# O output desse processamento deve ser um arquivo com schema pronto e juntando todos os arquivos feitos no passo 1"
      ]
    },
    {
      "cell_type": "markdown",
      "metadata": {
        "id": "m4SJ6AwlRnSH"
      },
      "source": [
        "##1. Importando as bibliotecas"
      ]
    },
    {
      "cell_type": "code",
      "metadata": {
        "id": "Jqy3AwhgRv9K"
      },
      "source": [
        "import subprocess\n",
        "import pandas as pd"
      ],
      "execution_count": 2,
      "outputs": []
    },
    {
      "cell_type": "markdown",
      "metadata": {
        "id": "r-h6f5XXRyIK"
      },
      "source": [
        "##2. Extraindo os arquivos gerados no passo 1"
      ]
    },
    {
      "cell_type": "code",
      "metadata": {
        "id": "jxrSyJh8R4S0",
        "colab": {
          "base_uri": "https://localhost:8080/"
        },
        "outputId": "76551ffc-f9b0-48e5-d424-c010d1cb551e"
      },
      "source": [
        "subprocess.run(['unrar','x','/content/drive/MyDrive/tsg.rar'])"
      ],
      "execution_count": 8,
      "outputs": [
        {
          "output_type": "execute_result",
          "data": {
            "text/plain": [
              "CompletedProcess(args=['unrar', 'x', '/content/drive/MyDrive/tsg.rar'], returncode=0)"
            ]
          },
          "metadata": {},
          "execution_count": 8
        }
      ]
    },
    {
      "cell_type": "markdown",
      "metadata": {
        "id": "chyaTX9YrBaw"
      },
      "source": [
        "##3. Criando pastas de apoio"
      ]
    },
    {
      "cell_type": "code",
      "metadata": {
        "colab": {
          "base_uri": "https://localhost:8080/"
        },
        "id": "EksFyRf_ozZt",
        "outputId": "a5c06180-c5c3-48e7-d679-131b9098e6fa"
      },
      "source": [
        "subprocess.run(['mkdir','/content/Passo1'])\n",
        "subprocess.run(['mkdir','/content/Passo2'])\n",
        "subprocess.run(['mkdir','/content/Passo3'])"
      ],
      "execution_count": 9,
      "outputs": [
        {
          "output_type": "execute_result",
          "data": {
            "text/plain": [
              "CompletedProcess(args=['mkdir', '/content/Passo3'], returncode=1)"
            ]
          },
          "metadata": {},
          "execution_count": 9
        }
      ]
    },
    {
      "cell_type": "markdown",
      "metadata": {
        "id": "MiH7cpbffCkp"
      },
      "source": [
        "##4. Criando uma lista com o nome dos arquivos"
      ]
    },
    {
      "cell_type": "code",
      "metadata": {
        "id": "HIqALFwKfH3h"
      },
      "source": [
        "files = subprocess.getoutput(['ls','/content/'])\n",
        "files = files.split()\n",
        "files.remove('Passo1')\n",
        "files.remove('Passo2')\n",
        "files.remove('Passo3')\n",
        "files.remove('sample_data')\n",
        "files.remove('drive')\n"
      ],
      "execution_count": 10,
      "outputs": []
    },
    {
      "cell_type": "markdown",
      "metadata": {
        "id": "95B68ZzOrH6Y"
      },
      "source": [
        "##5. Transformando os dados numéricos"
      ]
    },
    {
      "cell_type": "code",
      "metadata": {
        "id": "0vUKUurgpMTa"
      },
      "source": [
        "for fi in files:\n",
        "  fin = open(fi, \"rt\")\n",
        "  fout = open('/content/Passo1/'+fi, \"wt\")\n",
        "  for line in fin:\n",
        "\t    fout.write(line.replace(',', '.'))\n",
        "fin.close()\n",
        "fout.close()"
      ],
      "execution_count": 11,
      "outputs": []
    },
    {
      "cell_type": "code",
      "metadata": {
        "id": "Ek_e8oGlpTsP"
      },
      "source": [
        "for fi in files:\n",
        "  fin = open('/content/Passo1/'+fi, \"rt\")\n",
        "  fout = open('/content/Passo2/'+fi, \"wt\")\n",
        "  for line in fin:\n",
        "\t    fout.write(line.replace(';', ','))\n",
        "fin.close()\n",
        "fout.close()"
      ],
      "execution_count": 12,
      "outputs": []
    },
    {
      "cell_type": "markdown",
      "metadata": {
        "id": "_UmgWbEPDhnb"
      },
      "source": [
        "##6. Cria novos arquivos preparados como variaveis, retirando valores nulos ou errados de datas que vieram ruins e salvando \n"
      ]
    },
    {
      "cell_type": "code",
      "metadata": {
        "id": "B1ty3m8vA39F"
      },
      "source": [
        "for fi in files:  \n",
        "  df = pd.read_csv('/content/Passo2/'+fi)\n",
        "  df['Data'] = pd.to_datetime(df['DATE (yyyy-mm-ddThh:mi:ssZ)'],errors='coerce')\n",
        "  df.dropna(inplace=True)\n",
        "  df.drop_duplicates(inplace=True)\n",
        "  df['ANO'] = df['Data'].dt.year\n",
        "  df['MES'] = df['Data'].dt.month\n",
        "  df['DIA'] = df['Data'].dt.day\n",
        "  df['LATITUDE'] = df['LATITUDE (degree_north)']\n",
        "  df['LONGITUDE'] = df['LONGITUDE (degree_east)']\n",
        "  df['SALINIDADE'] = df['PSAL LEVEL1 (psu)']\n",
        "  df['TIPO'] = 'TSG'\n",
        "  dx=df[['TIPO','ANO','MES','DIA','LATITUDE','LONGITUDE','SALINIDADE']]\n",
        "  dx.to_csv('/content/Passo3/'+fi)"
      ],
      "execution_count": 13,
      "outputs": []
    },
    {
      "cell_type": "markdown",
      "metadata": {
        "id": "EycamRE5vtzg"
      },
      "source": [
        "##7. Junte os arquivos"
      ]
    },
    {
      "cell_type": "code",
      "metadata": {
        "id": "CQw2FwlkvwUK"
      },
      "source": [
        "df2 = pd.DataFrame()\n",
        "for fi in files:  \n",
        "  df = pd.read_csv('/content/Passo3/'+fi)\n",
        "  df2 = pd.concat([df2,df])"
      ],
      "execution_count": 25,
      "outputs": []
    },
    {
      "cell_type": "markdown",
      "metadata": {
        "id": "hrNwf7IwvOaP"
      },
      "source": [
        "##8. Veja se tá tudo ok"
      ]
    },
    {
      "cell_type": "code",
      "metadata": {
        "colab": {
          "base_uri": "https://localhost:8080/",
          "height": 419
        },
        "id": "Xo5OG02Ksn9_",
        "outputId": "63d93cbe-9f1e-4b90-f183-39a8c5733185"
      },
      "source": [
        "df2 "
      ],
      "execution_count": 27,
      "outputs": [
        {
          "output_type": "execute_result",
          "data": {
            "text/html": [
              "<div>\n",
              "<style scoped>\n",
              "    .dataframe tbody tr th:only-of-type {\n",
              "        vertical-align: middle;\n",
              "    }\n",
              "\n",
              "    .dataframe tbody tr th {\n",
              "        vertical-align: top;\n",
              "    }\n",
              "\n",
              "    .dataframe thead th {\n",
              "        text-align: right;\n",
              "    }\n",
              "</style>\n",
              "<table border=\"1\" class=\"dataframe\">\n",
              "  <thead>\n",
              "    <tr style=\"text-align: right;\">\n",
              "      <th></th>\n",
              "      <th>Unnamed: 0</th>\n",
              "      <th>TIPO</th>\n",
              "      <th>ANO</th>\n",
              "      <th>MES</th>\n",
              "      <th>DIA</th>\n",
              "      <th>LATITUDE</th>\n",
              "      <th>LONGITUDE</th>\n",
              "      <th>SALINIDADE</th>\n",
              "    </tr>\n",
              "  </thead>\n",
              "  <tbody>\n",
              "    <tr>\n",
              "      <th>0</th>\n",
              "      <td>0</td>\n",
              "      <td>TSG</td>\n",
              "      <td>2008</td>\n",
              "      <td>3</td>\n",
              "      <td>12</td>\n",
              "      <td>7.5000</td>\n",
              "      <td>-79.8700</td>\n",
              "      <td>32.320</td>\n",
              "    </tr>\n",
              "    <tr>\n",
              "      <th>1</th>\n",
              "      <td>2</td>\n",
              "      <td>TSG</td>\n",
              "      <td>2008</td>\n",
              "      <td>3</td>\n",
              "      <td>12</td>\n",
              "      <td>8.0500</td>\n",
              "      <td>-79.7000</td>\n",
              "      <td>32.150</td>\n",
              "    </tr>\n",
              "    <tr>\n",
              "      <th>2</th>\n",
              "      <td>3</td>\n",
              "      <td>TSG</td>\n",
              "      <td>2008</td>\n",
              "      <td>3</td>\n",
              "      <td>12</td>\n",
              "      <td>8.3200</td>\n",
              "      <td>-79.6200</td>\n",
              "      <td>32.200</td>\n",
              "    </tr>\n",
              "    <tr>\n",
              "      <th>3</th>\n",
              "      <td>4</td>\n",
              "      <td>TSG</td>\n",
              "      <td>2008</td>\n",
              "      <td>3</td>\n",
              "      <td>12</td>\n",
              "      <td>8.5800</td>\n",
              "      <td>-79.5300</td>\n",
              "      <td>32.310</td>\n",
              "    </tr>\n",
              "    <tr>\n",
              "      <th>4</th>\n",
              "      <td>14</td>\n",
              "      <td>TSG</td>\n",
              "      <td>2008</td>\n",
              "      <td>3</td>\n",
              "      <td>14</td>\n",
              "      <td>11.3800</td>\n",
              "      <td>-78.8200</td>\n",
              "      <td>35.800</td>\n",
              "    </tr>\n",
              "    <tr>\n",
              "      <th>...</th>\n",
              "      <td>...</td>\n",
              "      <td>...</td>\n",
              "      <td>...</td>\n",
              "      <td>...</td>\n",
              "      <td>...</td>\n",
              "      <td>...</td>\n",
              "      <td>...</td>\n",
              "      <td>...</td>\n",
              "    </tr>\n",
              "    <tr>\n",
              "      <th>2255358</th>\n",
              "      <td>2938943</td>\n",
              "      <td>TSG</td>\n",
              "      <td>2017</td>\n",
              "      <td>9</td>\n",
              "      <td>15</td>\n",
              "      <td>35.9213</td>\n",
              "      <td>-75.4346</td>\n",
              "      <td>29.977</td>\n",
              "    </tr>\n",
              "    <tr>\n",
              "      <th>2255359</th>\n",
              "      <td>2938944</td>\n",
              "      <td>TSG</td>\n",
              "      <td>2017</td>\n",
              "      <td>9</td>\n",
              "      <td>15</td>\n",
              "      <td>35.9264</td>\n",
              "      <td>-75.4369</td>\n",
              "      <td>30.033</td>\n",
              "    </tr>\n",
              "    <tr>\n",
              "      <th>2255360</th>\n",
              "      <td>2938945</td>\n",
              "      <td>TSG</td>\n",
              "      <td>2017</td>\n",
              "      <td>9</td>\n",
              "      <td>15</td>\n",
              "      <td>35.9315</td>\n",
              "      <td>-75.4393</td>\n",
              "      <td>29.955</td>\n",
              "    </tr>\n",
              "    <tr>\n",
              "      <th>2255361</th>\n",
              "      <td>2938946</td>\n",
              "      <td>TSG</td>\n",
              "      <td>2017</td>\n",
              "      <td>9</td>\n",
              "      <td>15</td>\n",
              "      <td>35.9365</td>\n",
              "      <td>-75.4420</td>\n",
              "      <td>29.812</td>\n",
              "    </tr>\n",
              "    <tr>\n",
              "      <th>2255362</th>\n",
              "      <td>2938947</td>\n",
              "      <td>TSG</td>\n",
              "      <td>2017</td>\n",
              "      <td>9</td>\n",
              "      <td>15</td>\n",
              "      <td>35.9416</td>\n",
              "      <td>-75.4447</td>\n",
              "      <td>29.793</td>\n",
              "    </tr>\n",
              "  </tbody>\n",
              "</table>\n",
              "<p>9188234 rows × 8 columns</p>\n",
              "</div>"
            ],
            "text/plain": [
              "         Unnamed: 0 TIPO   ANO  MES  DIA  LATITUDE  LONGITUDE  SALINIDADE\n",
              "0                 0  TSG  2008    3   12    7.5000   -79.8700      32.320\n",
              "1                 2  TSG  2008    3   12    8.0500   -79.7000      32.150\n",
              "2                 3  TSG  2008    3   12    8.3200   -79.6200      32.200\n",
              "3                 4  TSG  2008    3   12    8.5800   -79.5300      32.310\n",
              "4                14  TSG  2008    3   14   11.3800   -78.8200      35.800\n",
              "...             ...  ...   ...  ...  ...       ...        ...         ...\n",
              "2255358     2938943  TSG  2017    9   15   35.9213   -75.4346      29.977\n",
              "2255359     2938944  TSG  2017    9   15   35.9264   -75.4369      30.033\n",
              "2255360     2938945  TSG  2017    9   15   35.9315   -75.4393      29.955\n",
              "2255361     2938946  TSG  2017    9   15   35.9365   -75.4420      29.812\n",
              "2255362     2938947  TSG  2017    9   15   35.9416   -75.4447      29.793\n",
              "\n",
              "[9188234 rows x 8 columns]"
            ]
          },
          "metadata": {},
          "execution_count": 27
        }
      ]
    },
    {
      "cell_type": "markdown",
      "metadata": {
        "id": "QC4I76Js0iV7"
      },
      "source": [
        "##9. Salve o df no drive\n"
      ]
    },
    {
      "cell_type": "code",
      "metadata": {
        "id": "v6iBbeTZ0k7r"
      },
      "source": [
        "df2.to_csv('/content/drive/MyDrive/dados_tsg.csv')"
      ],
      "execution_count": 28,
      "outputs": []
    }
  ]
}