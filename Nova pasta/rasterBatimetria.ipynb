{
  "nbformat": 4,
  "nbformat_minor": 0,
  "metadata": {
    "colab": {
      "name": "rasterBatimetria.ipynb",
      "provenance": [],
      "collapsed_sections": []
    },
    "kernelspec": {
      "name": "python3",
      "display_name": "Python 3"
    },
    "language_info": {
      "name": "python"
    }
  },
  "cells": [
    {
      "cell_type": "markdown",
      "metadata": {
        "id": "HxWDvmS6G5kX"
      },
      "source": [
        "#1. Dados de batimetria\n",
        "##1.1 Os dados de batimetria foram baixados de https://maps.ngdc.noaa.gov/viewers/grid-extract/index.html\n",
        "##1.2 O output desse arquivo deve ser os dados de batimetria com (lat,lon) em uma resolução de 1km"
      ]
    },
    {
      "cell_type": "markdown",
      "metadata": {
        "id": "yKJXBroyHoxk"
      },
      "source": [
        "##1.3 Importar as bibliotecas"
      ]
    },
    {
      "cell_type": "code",
      "metadata": {
        "id": "Q-0JgNpSuPfe"
      },
      "source": [
        "from osgeo import gdal\n",
        "import xarray as xr\n",
        "import numpy as np\n"
      ],
      "execution_count": 3,
      "outputs": []
    },
    {
      "cell_type": "markdown",
      "metadata": {
        "id": "2b9XOPV2Huo8"
      },
      "source": [
        "##1.4 Os dados foram dispostos em um formato raster, vou traduzir eles para netcdf4 por ser mais simples de trabalhar com a biblioteca xarray"
      ]
    },
    {
      "cell_type": "code",
      "metadata": {
        "id": "yscJdJX_vwZa"
      },
      "source": [
        "inputfile = '/content/drive/MyDrive/exportImage.tiff'\n",
        "outputfile = '/content/drive/MyDrive/exportImage1.nc'\n",
        "ds = gdal.Translate(outputfile, inputfile, format='NetCDF')"
      ],
      "execution_count": 3,
      "outputs": []
    },
    {
      "cell_type": "markdown",
      "metadata": {
        "id": "KQakuGplH7kY"
      },
      "source": [
        "##1.5 com os dados em formato nc lê-se eles com a biblioteca xarray"
      ]
    },
    {
      "cell_type": "code",
      "metadata": {
        "id": "WSIDvegj6l5J"
      },
      "source": [
        "x = xr.open_dataset('/content/drive/MyDrive/exportImage1.nc')"
      ],
      "execution_count": 4,
      "outputs": []
    },
    {
      "cell_type": "code",
      "metadata": {
        "colab": {
          "base_uri": "https://localhost:8080/",
          "height": 345
        },
        "id": "h6-XovHY7iFq",
        "outputId": "3e1a5247-d718-426b-a002-e1d37d5fc1d4"
      },
      "source": [
        "x"
      ],
      "execution_count": 5,
      "outputs": [
        {
          "output_type": "execute_result",
          "data": {
            "text/html": [
              "<div><svg style=\"position: absolute; width: 0; height: 0; overflow: hidden\">\n",
              "<defs>\n",
              "<symbol id=\"icon-database\" viewBox=\"0 0 32 32\">\n",
              "<path d=\"M16 0c-8.837 0-16 2.239-16 5v4c0 2.761 7.163 5 16 5s16-2.239 16-5v-4c0-2.761-7.163-5-16-5z\"></path>\n",
              "<path d=\"M16 17c-8.837 0-16-2.239-16-5v6c0 2.761 7.163 5 16 5s16-2.239 16-5v-6c0 2.761-7.163 5-16 5z\"></path>\n",
              "<path d=\"M16 26c-8.837 0-16-2.239-16-5v6c0 2.761 7.163 5 16 5s16-2.239 16-5v-6c0 2.761-7.163 5-16 5z\"></path>\n",
              "</symbol>\n",
              "<symbol id=\"icon-file-text2\" viewBox=\"0 0 32 32\">\n",
              "<path d=\"M28.681 7.159c-0.694-0.947-1.662-2.053-2.724-3.116s-2.169-2.030-3.116-2.724c-1.612-1.182-2.393-1.319-2.841-1.319h-15.5c-1.378 0-2.5 1.121-2.5 2.5v27c0 1.378 1.122 2.5 2.5 2.5h23c1.378 0 2.5-1.122 2.5-2.5v-19.5c0-0.448-0.137-1.23-1.319-2.841zM24.543 5.457c0.959 0.959 1.712 1.825 2.268 2.543h-4.811v-4.811c0.718 0.556 1.584 1.309 2.543 2.268zM28 29.5c0 0.271-0.229 0.5-0.5 0.5h-23c-0.271 0-0.5-0.229-0.5-0.5v-27c0-0.271 0.229-0.5 0.5-0.5 0 0 15.499-0 15.5 0v7c0 0.552 0.448 1 1 1h7v19.5z\"></path>\n",
              "<path d=\"M23 26h-14c-0.552 0-1-0.448-1-1s0.448-1 1-1h14c0.552 0 1 0.448 1 1s-0.448 1-1 1z\"></path>\n",
              "<path d=\"M23 22h-14c-0.552 0-1-0.448-1-1s0.448-1 1-1h14c0.552 0 1 0.448 1 1s-0.448 1-1 1z\"></path>\n",
              "<path d=\"M23 18h-14c-0.552 0-1-0.448-1-1s0.448-1 1-1h14c0.552 0 1 0.448 1 1s-0.448 1-1 1z\"></path>\n",
              "</symbol>\n",
              "</defs>\n",
              "</svg>\n",
              "<style>/* CSS stylesheet for displaying xarray objects in jupyterlab.\n",
              " *\n",
              " */\n",
              "\n",
              ":root {\n",
              "  --xr-font-color0: var(--jp-content-font-color0, rgba(0, 0, 0, 1));\n",
              "  --xr-font-color2: var(--jp-content-font-color2, rgba(0, 0, 0, 0.54));\n",
              "  --xr-font-color3: var(--jp-content-font-color3, rgba(0, 0, 0, 0.38));\n",
              "  --xr-border-color: var(--jp-border-color2, #e0e0e0);\n",
              "  --xr-disabled-color: var(--jp-layout-color3, #bdbdbd);\n",
              "  --xr-background-color: var(--jp-layout-color0, white);\n",
              "  --xr-background-color-row-even: var(--jp-layout-color1, white);\n",
              "  --xr-background-color-row-odd: var(--jp-layout-color2, #eeeeee);\n",
              "}\n",
              "\n",
              "html[theme=dark],\n",
              "body.vscode-dark {\n",
              "  --xr-font-color0: rgba(255, 255, 255, 1);\n",
              "  --xr-font-color2: rgba(255, 255, 255, 0.54);\n",
              "  --xr-font-color3: rgba(255, 255, 255, 0.38);\n",
              "  --xr-border-color: #1F1F1F;\n",
              "  --xr-disabled-color: #515151;\n",
              "  --xr-background-color: #111111;\n",
              "  --xr-background-color-row-even: #111111;\n",
              "  --xr-background-color-row-odd: #313131;\n",
              "}\n",
              "\n",
              ".xr-wrap {\n",
              "  display: block;\n",
              "  min-width: 300px;\n",
              "  max-width: 700px;\n",
              "}\n",
              "\n",
              ".xr-text-repr-fallback {\n",
              "  /* fallback to plain text repr when CSS is not injected (untrusted notebook) */\n",
              "  display: none;\n",
              "}\n",
              "\n",
              ".xr-header {\n",
              "  padding-top: 6px;\n",
              "  padding-bottom: 6px;\n",
              "  margin-bottom: 4px;\n",
              "  border-bottom: solid 1px var(--xr-border-color);\n",
              "}\n",
              "\n",
              ".xr-header > div,\n",
              ".xr-header > ul {\n",
              "  display: inline;\n",
              "  margin-top: 0;\n",
              "  margin-bottom: 0;\n",
              "}\n",
              "\n",
              ".xr-obj-type,\n",
              ".xr-array-name {\n",
              "  margin-left: 2px;\n",
              "  margin-right: 10px;\n",
              "}\n",
              "\n",
              ".xr-obj-type {\n",
              "  color: var(--xr-font-color2);\n",
              "}\n",
              "\n",
              ".xr-sections {\n",
              "  padding-left: 0 !important;\n",
              "  display: grid;\n",
              "  grid-template-columns: 150px auto auto 1fr 20px 20px;\n",
              "}\n",
              "\n",
              ".xr-section-item {\n",
              "  display: contents;\n",
              "}\n",
              "\n",
              ".xr-section-item input {\n",
              "  display: none;\n",
              "}\n",
              "\n",
              ".xr-section-item input + label {\n",
              "  color: var(--xr-disabled-color);\n",
              "}\n",
              "\n",
              ".xr-section-item input:enabled + label {\n",
              "  cursor: pointer;\n",
              "  color: var(--xr-font-color2);\n",
              "}\n",
              "\n",
              ".xr-section-item input:enabled + label:hover {\n",
              "  color: var(--xr-font-color0);\n",
              "}\n",
              "\n",
              ".xr-section-summary {\n",
              "  grid-column: 1;\n",
              "  color: var(--xr-font-color2);\n",
              "  font-weight: 500;\n",
              "}\n",
              "\n",
              ".xr-section-summary > span {\n",
              "  display: inline-block;\n",
              "  padding-left: 0.5em;\n",
              "}\n",
              "\n",
              ".xr-section-summary-in:disabled + label {\n",
              "  color: var(--xr-font-color2);\n",
              "}\n",
              "\n",
              ".xr-section-summary-in + label:before {\n",
              "  display: inline-block;\n",
              "  content: '►';\n",
              "  font-size: 11px;\n",
              "  width: 15px;\n",
              "  text-align: center;\n",
              "}\n",
              "\n",
              ".xr-section-summary-in:disabled + label:before {\n",
              "  color: var(--xr-disabled-color);\n",
              "}\n",
              "\n",
              ".xr-section-summary-in:checked + label:before {\n",
              "  content: '▼';\n",
              "}\n",
              "\n",
              ".xr-section-summary-in:checked + label > span {\n",
              "  display: none;\n",
              "}\n",
              "\n",
              ".xr-section-summary,\n",
              ".xr-section-inline-details {\n",
              "  padding-top: 4px;\n",
              "  padding-bottom: 4px;\n",
              "}\n",
              "\n",
              ".xr-section-inline-details {\n",
              "  grid-column: 2 / -1;\n",
              "}\n",
              "\n",
              ".xr-section-details {\n",
              "  display: none;\n",
              "  grid-column: 1 / -1;\n",
              "  margin-bottom: 5px;\n",
              "}\n",
              "\n",
              ".xr-section-summary-in:checked ~ .xr-section-details {\n",
              "  display: contents;\n",
              "}\n",
              "\n",
              ".xr-array-wrap {\n",
              "  grid-column: 1 / -1;\n",
              "  display: grid;\n",
              "  grid-template-columns: 20px auto;\n",
              "}\n",
              "\n",
              ".xr-array-wrap > label {\n",
              "  grid-column: 1;\n",
              "  vertical-align: top;\n",
              "}\n",
              "\n",
              ".xr-preview {\n",
              "  color: var(--xr-font-color3);\n",
              "}\n",
              "\n",
              ".xr-array-preview,\n",
              ".xr-array-data {\n",
              "  padding: 0 5px !important;\n",
              "  grid-column: 2;\n",
              "}\n",
              "\n",
              ".xr-array-data,\n",
              ".xr-array-in:checked ~ .xr-array-preview {\n",
              "  display: none;\n",
              "}\n",
              "\n",
              ".xr-array-in:checked ~ .xr-array-data,\n",
              ".xr-array-preview {\n",
              "  display: inline-block;\n",
              "}\n",
              "\n",
              ".xr-dim-list {\n",
              "  display: inline-block !important;\n",
              "  list-style: none;\n",
              "  padding: 0 !important;\n",
              "  margin: 0;\n",
              "}\n",
              "\n",
              ".xr-dim-list li {\n",
              "  display: inline-block;\n",
              "  padding: 0;\n",
              "  margin: 0;\n",
              "}\n",
              "\n",
              ".xr-dim-list:before {\n",
              "  content: '(';\n",
              "}\n",
              "\n",
              ".xr-dim-list:after {\n",
              "  content: ')';\n",
              "}\n",
              "\n",
              ".xr-dim-list li:not(:last-child):after {\n",
              "  content: ',';\n",
              "  padding-right: 5px;\n",
              "}\n",
              "\n",
              ".xr-has-index {\n",
              "  font-weight: bold;\n",
              "}\n",
              "\n",
              ".xr-var-list,\n",
              ".xr-var-item {\n",
              "  display: contents;\n",
              "}\n",
              "\n",
              ".xr-var-item > div,\n",
              ".xr-var-item label,\n",
              ".xr-var-item > .xr-var-name span {\n",
              "  background-color: var(--xr-background-color-row-even);\n",
              "  margin-bottom: 0;\n",
              "}\n",
              "\n",
              ".xr-var-item > .xr-var-name:hover span {\n",
              "  padding-right: 5px;\n",
              "}\n",
              "\n",
              ".xr-var-list > li:nth-child(odd) > div,\n",
              ".xr-var-list > li:nth-child(odd) > label,\n",
              ".xr-var-list > li:nth-child(odd) > .xr-var-name span {\n",
              "  background-color: var(--xr-background-color-row-odd);\n",
              "}\n",
              "\n",
              ".xr-var-name {\n",
              "  grid-column: 1;\n",
              "}\n",
              "\n",
              ".xr-var-dims {\n",
              "  grid-column: 2;\n",
              "}\n",
              "\n",
              ".xr-var-dtype {\n",
              "  grid-column: 3;\n",
              "  text-align: right;\n",
              "  color: var(--xr-font-color2);\n",
              "}\n",
              "\n",
              ".xr-var-preview {\n",
              "  grid-column: 4;\n",
              "}\n",
              "\n",
              ".xr-var-name,\n",
              ".xr-var-dims,\n",
              ".xr-var-dtype,\n",
              ".xr-preview,\n",
              ".xr-attrs dt {\n",
              "  white-space: nowrap;\n",
              "  overflow: hidden;\n",
              "  text-overflow: ellipsis;\n",
              "  padding-right: 10px;\n",
              "}\n",
              "\n",
              ".xr-var-name:hover,\n",
              ".xr-var-dims:hover,\n",
              ".xr-var-dtype:hover,\n",
              ".xr-attrs dt:hover {\n",
              "  overflow: visible;\n",
              "  width: auto;\n",
              "  z-index: 1;\n",
              "}\n",
              "\n",
              ".xr-var-attrs,\n",
              ".xr-var-data {\n",
              "  display: none;\n",
              "  background-color: var(--xr-background-color) !important;\n",
              "  padding-bottom: 5px !important;\n",
              "}\n",
              "\n",
              ".xr-var-attrs-in:checked ~ .xr-var-attrs,\n",
              ".xr-var-data-in:checked ~ .xr-var-data {\n",
              "  display: block;\n",
              "}\n",
              "\n",
              ".xr-var-data > table {\n",
              "  float: right;\n",
              "}\n",
              "\n",
              ".xr-var-name span,\n",
              ".xr-var-data,\n",
              ".xr-attrs {\n",
              "  padding-left: 25px !important;\n",
              "}\n",
              "\n",
              ".xr-attrs,\n",
              ".xr-var-attrs,\n",
              ".xr-var-data {\n",
              "  grid-column: 1 / -1;\n",
              "}\n",
              "\n",
              "dl.xr-attrs {\n",
              "  padding: 0;\n",
              "  margin: 0;\n",
              "  display: grid;\n",
              "  grid-template-columns: 125px auto;\n",
              "}\n",
              "\n",
              ".xr-attrs dt,\n",
              ".xr-attrs dd {\n",
              "  padding: 0;\n",
              "  margin: 0;\n",
              "  float: left;\n",
              "  padding-right: 10px;\n",
              "  width: auto;\n",
              "}\n",
              "\n",
              ".xr-attrs dt {\n",
              "  font-weight: normal;\n",
              "  grid-column: 1;\n",
              "}\n",
              "\n",
              ".xr-attrs dt:hover span {\n",
              "  display: inline-block;\n",
              "  background: var(--xr-background-color);\n",
              "  padding-right: 10px;\n",
              "}\n",
              "\n",
              ".xr-attrs dd {\n",
              "  grid-column: 2;\n",
              "  white-space: pre-wrap;\n",
              "  word-break: break-all;\n",
              "}\n",
              "\n",
              ".xr-icon-database,\n",
              ".xr-icon-file-text2 {\n",
              "  display: inline-block;\n",
              "  vertical-align: middle;\n",
              "  width: 1em;\n",
              "  height: 1.5em !important;\n",
              "  stroke-width: 0;\n",
              "  stroke: currentColor;\n",
              "  fill: currentColor;\n",
              "}\n",
              "</style><pre class='xr-text-repr-fallback'>&lt;xarray.Dataset&gt;\n",
              "Dimensions:  (lat: 3600, lon: 5400)\n",
              "Coordinates:\n",
              "  * lat      (lat) float64 -20.0 -19.98 -19.97 -19.95 ... 39.95 39.97 39.98\n",
              "  * lon      (lon) float64 -80.0 -79.98 -79.97 -79.95 ... 9.933 9.95 9.967 9.983\n",
              "Data variables:\n",
              "    crs      |S1 b&#x27;&#x27;\n",
              "    Band1    (lat, lon) float32 ...\n",
              "Attributes:\n",
              "    GDAL_AREA_OR_POINT:  Area\n",
              "    GDAL_DataType:       Generic\n",
              "    Conventions:         CF-1.5\n",
              "    GDAL:                GDAL 2.2.3, released 2017/11/20\n",
              "    history:             Thu Nov 18 20:49:39 2021: GDAL CreateCopy( /content/...</pre><div class='xr-wrap' hidden><div class='xr-header'><div class='xr-obj-type'>xarray.Dataset</div></div><ul class='xr-sections'><li class='xr-section-item'><input id='section-aee8c329-d5f6-4015-9369-f10474641332' class='xr-section-summary-in' type='checkbox' disabled ><label for='section-aee8c329-d5f6-4015-9369-f10474641332' class='xr-section-summary'  title='Expand/collapse section'>Dimensions:</label><div class='xr-section-inline-details'><ul class='xr-dim-list'><li><span class='xr-has-index'>lat</span>: 3600</li><li><span class='xr-has-index'>lon</span>: 5400</li></ul></div><div class='xr-section-details'></div></li><li class='xr-section-item'><input id='section-2b67a612-a077-4e23-be83-d3bd5ddab5d4' class='xr-section-summary-in' type='checkbox'  checked><label for='section-2b67a612-a077-4e23-be83-d3bd5ddab5d4' class='xr-section-summary' >Coordinates: <span>(2)</span></label><div class='xr-section-inline-details'></div><div class='xr-section-details'><ul class='xr-var-list'><li class='xr-var-item'><div class='xr-var-name'><span class='xr-has-index'>lat</span></div><div class='xr-var-dims'>(lat)</div><div class='xr-var-dtype'>float64</div><div class='xr-var-preview xr-preview'>-20.0 -19.98 -19.97 ... 39.97 39.98</div><input id='attrs-528f2e1b-54aa-4f49-bff5-9c38a7d56b45' class='xr-var-attrs-in' type='checkbox' ><label for='attrs-528f2e1b-54aa-4f49-bff5-9c38a7d56b45' title='Show/Hide attributes'><svg class='icon xr-icon-file-text2'><use xlink:href='#icon-file-text2'></use></svg></label><input id='data-32efabe7-937d-4a9e-8839-85f4d55a3bfe' class='xr-var-data-in' type='checkbox'><label for='data-32efabe7-937d-4a9e-8839-85f4d55a3bfe' title='Show/Hide data repr'><svg class='icon xr-icon-database'><use xlink:href='#icon-database'></use></svg></label><div class='xr-var-attrs'><dl class='xr-attrs'><dt><span>standard_name :</span></dt><dd>latitude</dd><dt><span>long_name :</span></dt><dd>latitude</dd><dt><span>units :</span></dt><dd>degrees_north</dd></dl></div><div class='xr-var-data'><pre>array([-19.999997, -19.98333 , -19.966663, ...,  39.950003,  39.96667 ,\n",
              "        39.983337])</pre></div></li><li class='xr-var-item'><div class='xr-var-name'><span class='xr-has-index'>lon</span></div><div class='xr-var-dims'>(lon)</div><div class='xr-var-dtype'>float64</div><div class='xr-var-preview xr-preview'>-80.0 -79.98 -79.97 ... 9.967 9.983</div><input id='attrs-28d773ca-f398-4414-974c-c8394afaad78' class='xr-var-attrs-in' type='checkbox' ><label for='attrs-28d773ca-f398-4414-974c-c8394afaad78' title='Show/Hide attributes'><svg class='icon xr-icon-file-text2'><use xlink:href='#icon-file-text2'></use></svg></label><input id='data-994d5874-e759-48bc-8b40-a53a9340b6fd' class='xr-var-data-in' type='checkbox'><label for='data-994d5874-e759-48bc-8b40-a53a9340b6fd' title='Show/Hide data repr'><svg class='icon xr-icon-database'><use xlink:href='#icon-database'></use></svg></label><div class='xr-var-attrs'><dl class='xr-attrs'><dt><span>standard_name :</span></dt><dd>longitude</dd><dt><span>long_name :</span></dt><dd>longitude</dd><dt><span>units :</span></dt><dd>degrees_east</dd></dl></div><div class='xr-var-data'><pre>array([-79.999997, -79.98333 , -79.966663, ...,   9.950003,   9.96667 ,\n",
              "         9.983337])</pre></div></li></ul></div></li><li class='xr-section-item'><input id='section-1d64f4d4-dc62-4c69-aec3-885bcbf12d90' class='xr-section-summary-in' type='checkbox'  checked><label for='section-1d64f4d4-dc62-4c69-aec3-885bcbf12d90' class='xr-section-summary' >Data variables: <span>(2)</span></label><div class='xr-section-inline-details'></div><div class='xr-section-details'><ul class='xr-var-list'><li class='xr-var-item'><div class='xr-var-name'><span>crs</span></div><div class='xr-var-dims'>()</div><div class='xr-var-dtype'>|S1</div><div class='xr-var-preview xr-preview'>...</div><input id='attrs-921a9f9d-7717-45cd-857f-e0abd32e9641' class='xr-var-attrs-in' type='checkbox' ><label for='attrs-921a9f9d-7717-45cd-857f-e0abd32e9641' title='Show/Hide attributes'><svg class='icon xr-icon-file-text2'><use xlink:href='#icon-file-text2'></use></svg></label><input id='data-8f4c97aa-a033-4a6c-a706-9326d1045b65' class='xr-var-data-in' type='checkbox'><label for='data-8f4c97aa-a033-4a6c-a706-9326d1045b65' title='Show/Hide data repr'><svg class='icon xr-icon-database'><use xlink:href='#icon-database'></use></svg></label><div class='xr-var-attrs'><dl class='xr-attrs'><dt><span>grid_mapping_name :</span></dt><dd>latitude_longitude</dd><dt><span>long_name :</span></dt><dd>CRS definition</dd><dt><span>longitude_of_prime_meridian :</span></dt><dd>0.0</dd><dt><span>semi_major_axis :</span></dt><dd>6378137.0</dd><dt><span>inverse_flattening :</span></dt><dd>298.257223563</dd><dt><span>spatial_ref :</span></dt><dd>GEOGCS[&quot;WGS 84&quot;,DATUM[&quot;WGS_1984&quot;,SPHEROID[&quot;WGS 84&quot;,6378137,298.257223563,AUTHORITY[&quot;EPSG&quot;,&quot;7030&quot;]],AUTHORITY[&quot;EPSG&quot;,&quot;6326&quot;]],PRIMEM[&quot;Greenwich&quot;,0],UNIT[&quot;degree&quot;,0.0174532925199433],AUTHORITY[&quot;EPSG&quot;,&quot;4326&quot;]]</dd><dt><span>GeoTransform :</span></dt><dd>-80.00833 0.01666666666666667 0 39.99167 0 -0.01666666666666667 </dd></dl></div><div class='xr-var-data'><pre>array(b&#x27;&#x27;, dtype=&#x27;|S1&#x27;)</pre></div></li><li class='xr-var-item'><div class='xr-var-name'><span>Band1</span></div><div class='xr-var-dims'>(lat, lon)</div><div class='xr-var-dtype'>float32</div><div class='xr-var-preview xr-preview'>...</div><input id='attrs-bef24e20-3cbd-4d1f-8eae-501155b2c43f' class='xr-var-attrs-in' type='checkbox' ><label for='attrs-bef24e20-3cbd-4d1f-8eae-501155b2c43f' title='Show/Hide attributes'><svg class='icon xr-icon-file-text2'><use xlink:href='#icon-file-text2'></use></svg></label><input id='data-f3b14a14-b88f-4717-990c-5c31b5e9ae06' class='xr-var-data-in' type='checkbox'><label for='data-f3b14a14-b88f-4717-990c-5c31b5e9ae06' title='Show/Hide data repr'><svg class='icon xr-icon-database'><use xlink:href='#icon-database'></use></svg></label><div class='xr-var-attrs'><dl class='xr-attrs'><dt><span>long_name :</span></dt><dd>GDAL Band Number 1</dd><dt><span>SourceBandIndex :</span></dt><dd>0</dd><dt><span>grid_mapping :</span></dt><dd>crs</dd></dl></div><div class='xr-var-data'><pre>[19440000 values with dtype=float32]</pre></div></li></ul></div></li><li class='xr-section-item'><input id='section-3ed290e8-e15f-4c88-895a-669690875092' class='xr-section-summary-in' type='checkbox'  checked><label for='section-3ed290e8-e15f-4c88-895a-669690875092' class='xr-section-summary' >Attributes: <span>(5)</span></label><div class='xr-section-inline-details'></div><div class='xr-section-details'><dl class='xr-attrs'><dt><span>GDAL_AREA_OR_POINT :</span></dt><dd>Area</dd><dt><span>GDAL_DataType :</span></dt><dd>Generic</dd><dt><span>Conventions :</span></dt><dd>CF-1.5</dd><dt><span>GDAL :</span></dt><dd>GDAL 2.2.3, released 2017/11/20</dd><dt><span>history :</span></dt><dd>Thu Nov 18 20:49:39 2021: GDAL CreateCopy( /content/drive/MyDrive/exportImage1.nc, ... )</dd></dl></div></li></ul></div></div>"
            ],
            "text/plain": [
              "<xarray.Dataset>\n",
              "Dimensions:  (lat: 3600, lon: 5400)\n",
              "Coordinates:\n",
              "  * lat      (lat) float64 -20.0 -19.98 -19.97 -19.95 ... 39.95 39.97 39.98\n",
              "  * lon      (lon) float64 -80.0 -79.98 -79.97 -79.95 ... 9.933 9.95 9.967 9.983\n",
              "Data variables:\n",
              "    crs      |S1 ...\n",
              "    Band1    (lat, lon) float32 ...\n",
              "Attributes:\n",
              "    GDAL_AREA_OR_POINT:  Area\n",
              "    GDAL_DataType:       Generic\n",
              "    Conventions:         CF-1.5\n",
              "    GDAL:                GDAL 2.2.3, released 2017/11/20\n",
              "    history:             Thu Nov 18 20:49:39 2021: GDAL CreateCopy( /content/..."
            ]
          },
          "metadata": {},
          "execution_count": 5
        }
      ]
    },
    {
      "cell_type": "markdown",
      "metadata": {
        "id": "4DrCOg-P0w00"
      },
      "source": [
        "##1.6 Agora é montar um dataframe pandas para os valores"
      ]
    },
    {
      "cell_type": "markdown",
      "metadata": {
        "id": "sAoHCE5u2ayz"
      },
      "source": [
        "###1.6.1 recuperar os dados disponiveis"
      ]
    },
    {
      "cell_type": "code",
      "metadata": {
        "id": "AnuJRgnHz0eL"
      },
      "source": [
        "latitude = x.get(key='lat')\n",
        "longitude = x.get(key='lon')\n",
        "batimetriaVetor = x.get(key='Band1')"
      ],
      "execution_count": 6,
      "outputs": []
    },
    {
      "cell_type": "markdown",
      "metadata": {
        "id": "mDClVkam2fmi"
      },
      "source": [
        "###1.6.2 setar as variaveis e o dataframe"
      ]
    },
    {
      "cell_type": "code",
      "metadata": {
        "id": "peey7CND2lOd"
      },
      "source": [
        "import pandas as pd\n",
        "df = list()"
      ],
      "execution_count": 20,
      "outputs": []
    },
    {
      "cell_type": "markdown",
      "metadata": {
        "id": "7zN_48pe5MpM"
      },
      "source": [
        "###1.6.3 montar o array\n",
        "  > como os dados estão na resolução de 1 metro, vou por todos eles em resolução de 1 km "
      ]
    },
    {
      "cell_type": "code",
      "metadata": {
        "id": "DWnJRPYB5LeF"
      },
      "source": [
        "for lat in range(len(latitude)):\n",
        "  for lon in range(len(longitude)):\n",
        "    la = round(latitude.data[lat],2)\n",
        "    lo = round(longitude.data[lon],2)\n",
        "    ba = batimetriaVetor.data[lat][lon]\n",
        "    linha = [la,lo,ba]\n",
        "    df.append(linha)"
      ],
      "execution_count": 21,
      "outputs": []
    },
    {
      "cell_type": "markdown",
      "metadata": {
        "id": "olU1RnHHImUs"
      },
      "source": [
        "###1.6.4 montar o dataframe"
      ]
    },
    {
      "cell_type": "code",
      "metadata": {
        "id": "GGlaH3qr5j9I"
      },
      "source": [
        "df = pd.DataFrame(data=df,columns=['Latitude','Longitude','Batimetria'])"
      ],
      "execution_count": 23,
      "outputs": []
    },
    {
      "cell_type": "markdown",
      "metadata": {
        "id": "0ZaoQYmfIFWT"
      },
      "source": [
        "##1.7 Com os dados com resolução igual a do satelite de temperatura, não foi preciso agrupar porque os dados estavam bem separados, com isso o dataFrame vai ser salvo"
      ]
    },
    {
      "cell_type": "code",
      "metadata": {
        "id": "I7LtLbHZLbuW"
      },
      "source": [
        "df.to_parquet('/content/drive/MyDrive/batimetria')"
      ],
      "execution_count": null,
      "outputs": []
    }
  ]
}